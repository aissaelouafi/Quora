{
 "cells": [
  {
   "cell_type": "markdown",
   "metadata": {},
   "source": [
    "## Quora Kaggle competition\n",
    "\n",
    "Welcome to the Quora Question Pairs competition! Here, our goal is to identify which questions asked on Quora, a quasi-forum website with over 100 million visitors a month, are duplicates of questions that have already been asked. This could be useful, for example, to instantly provide answers to questions that have already been answered. We are tasked with predicting whether a pair of questions are duplicates or not, and submitting a binary prediction against the logloss metric."
   ]
  },
  {
   "cell_type": "code",
   "execution_count": 54,
   "metadata": {
    "collapsed": false
   },
   "outputs": [],
   "source": [
    "import numpy as np\n",
    "import pandas as pd\n",
    "import os,re\n",
    "import cPickle\n",
    "import seaborn as sns\n",
    "import gensim as gn\n",
    "import logging\n",
    "from nltk.stem.porter import PorterStemmer\n",
    "from gensim import corpora, models\n",
    "from gensim.models.word2vec import Word2Vec\n",
    "import nltk\n",
    "import scipy.sparse as sparse\n",
    "from nltk.data import load\n",
    "from fuzzywuzzy import fuzz\n",
    "from sklearn import linear_model\n",
    "from sklearn.manifold import TSNE\n",
    "from sklearn.cross_validation import train_test_split\n",
    "from sklearn.ensemble import ExtraTreesClassifier\n",
    "from sklearn.feature_selection import SelectFromModel\n",
    "import matplotlib.pyplot as plt\n",
    "from sklearn.cross_validation import cross_val_score\n",
    "import pyLDAvis.gensim as gensimvis\n",
    "import pyLDAvis\n",
    "import xgboost as xgb\n",
    "from tqdm import tqdm\n",
    "from pyemd import emd\n",
    "from scipy.spatial.distance import cosine, cityblock, jaccard, canberra, euclidean, minkowski, braycurtis\n",
    "from sklearn.discriminant_analysis import LinearDiscriminantAnalysis\n",
    "%matplotlib inline\n",
    "#logging.basicConfig(format='%(asctime)s : %(levelname)s : %(message)s', level=logging.INFO)\n",
    "pd.set_option('display.max_columns', 200)"
   ]
  },
  {
   "cell_type": "markdown",
   "metadata": {},
   "source": [
    "### Training data"
   ]
  },
  {
   "cell_type": "code",
   "execution_count": 2,
   "metadata": {
    "collapsed": false
   },
   "outputs": [
    {
     "data": {
      "text/html": [
       "<div>\n",
       "<table border=\"1\" class=\"dataframe\">\n",
       "  <thead>\n",
       "    <tr style=\"text-align: right;\">\n",
       "      <th></th>\n",
       "      <th>id</th>\n",
       "      <th>qid1</th>\n",
       "      <th>qid2</th>\n",
       "      <th>question1</th>\n",
       "      <th>question2</th>\n",
       "      <th>is_duplicate</th>\n",
       "    </tr>\n",
       "  </thead>\n",
       "  <tbody>\n",
       "    <tr>\n",
       "      <th>0</th>\n",
       "      <td>0</td>\n",
       "      <td>1</td>\n",
       "      <td>2</td>\n",
       "      <td>What is the step by step guide to invest in sh...</td>\n",
       "      <td>What is the step by step guide to invest in sh...</td>\n",
       "      <td>0</td>\n",
       "    </tr>\n",
       "    <tr>\n",
       "      <th>1</th>\n",
       "      <td>1</td>\n",
       "      <td>3</td>\n",
       "      <td>4</td>\n",
       "      <td>What is the story of Kohinoor (Koh-i-Noor) Dia...</td>\n",
       "      <td>What would happen if the Indian government sto...</td>\n",
       "      <td>0</td>\n",
       "    </tr>\n",
       "    <tr>\n",
       "      <th>2</th>\n",
       "      <td>2</td>\n",
       "      <td>5</td>\n",
       "      <td>6</td>\n",
       "      <td>How can I increase the speed of my internet co...</td>\n",
       "      <td>How can Internet speed be increased by hacking...</td>\n",
       "      <td>0</td>\n",
       "    </tr>\n",
       "  </tbody>\n",
       "</table>\n",
       "</div>"
      ],
      "text/plain": [
       "   id  qid1  qid2                                          question1  \\\n",
       "0   0     1     2  What is the step by step guide to invest in sh...   \n",
       "1   1     3     4  What is the story of Kohinoor (Koh-i-Noor) Dia...   \n",
       "2   2     5     6  How can I increase the speed of my internet co...   \n",
       "\n",
       "                                           question2  is_duplicate  \n",
       "0  What is the step by step guide to invest in sh...             0  \n",
       "1  What would happen if the Indian government sto...             0  \n",
       "2  How can Internet speed be increased by hacking...             0  "
      ]
     },
     "execution_count": 2,
     "metadata": {},
     "output_type": "execute_result"
    }
   ],
   "source": [
    "df_train = pd.read_csv('./data/train.csv',nrows=1000)\n",
    "df_test = pd.read_csv('./data/test.csv',nrows=1000)\n",
    "df_train.head(3)"
   ]
  },
  {
   "cell_type": "code",
   "execution_count": 3,
   "metadata": {
    "collapsed": false
   },
   "outputs": [
    {
     "name": "stdout",
     "output_type": "stream",
     "text": [
      "Total number of question pairs for training: 1000\n",
      "Total number of question pairs for test data: 1000\n",
      "Duplicate pairs : 38.0 %\n"
     ]
    }
   ],
   "source": [
    "print('Total number of question pairs for training: {}'.format(len(df_train)))\n",
    "print('Total number of question pairs for test data: {}'.format(len(df_test)))\n",
    "print('Duplicate pairs : {} %'.format(round(df_train['is_duplicate'].mean()*100,2)))"
   ]
  },
  {
   "cell_type": "markdown",
   "metadata": {},
   "source": [
    "## Generate features"
   ]
  },
  {
   "cell_type": "markdown",
   "metadata": {},
   "source": [
    "### Text handcrafted features (fs_1)"
   ]
  },
  {
   "cell_type": "code",
   "execution_count": 4,
   "metadata": {
    "collapsed": false
   },
   "outputs": [],
   "source": [
    "def generate_features(df_train):\n",
    "    df_train['len_q1'] = df_train['question1'].apply(lambda x:len(str(x)))\n",
    "    df_train['len_q2'] = df_train['question2'].apply(lambda x:len(str(x)))\n",
    "    df_train['diff_len'] = df_train.len_q1-df_train.len_q2\n",
    "    df_train['len_char_q1'] = df_train.question1.apply(lambda x:len(''.join(set(str(x).replace(' ','')))))\n",
    "    df_train['len_char_q2'] = df_train.question2.apply(lambda x:len(''.join(set(str(x).replace(' ','')))))\n",
    "    df_train['len_word_q1'] = df_train.question1.apply(lambda x:len(str(x).split()))\n",
    "    df_train['len_word_q2'] = df_train.question2.apply(lambda x:len(str(x).split()))\n",
    "    df_train['common_words'] = df_train.apply(lambda x:len(set(str(x['question1']).lower().split()).intersection(set(str(x['question2']).lower().split()))),axis=1)\n",
    "\n",
    "    df_train['fuzzy_qratio'] = df_train.apply(lambda x: fuzz.QRatio(str(x['question1']),str(x['question2'])),axis=1)\n",
    "    df_train['fuzzy_wratio'] = df_train.apply(lambda x:fuzz.WRatio(str(x['question1']),str(x['question2'])),axis=1)\n",
    "    df_train['fuzzy_partial_ratio'] = df_train.apply(lambda x:fuzz.partial_ratio(str(x['question1']),str(x['question2'])),axis=1)\n",
    "    df_train['fuzzy_partial_token_set_ratio'] = df_train.apply(lambda x:fuzz.partial_token_set_ratio(str(x['question1']),str(x['question2'])),axis=1)\n",
    "    df_train['fuzzy_partial_token_sort_ratio'] = df_train.apply(lambda x:fuzz.partial_token_sort_ratio(str(x['question1']),str(x['question2'])),axis=1)\n",
    "    df_train['fuzzy_token_sort_ratio'] = df_train.apply(lambda x:fuzz.token_sort_ratio(str(x['question1']),str(x['question2'])),axis=1)\n",
    "    df_train['fuzzy_token_set_ratio'] = df_train.apply(lambda x:fuzz.token_set_ratio(str(x['question1']),str(x['question2'])),axis=1)\n",
    "    return df_train"
   ]
  },
  {
   "cell_type": "code",
   "execution_count": 5,
   "metadata": {
    "collapsed": false
   },
   "outputs": [
    {
     "data": {
      "text/html": [
       "<div>\n",
       "<table border=\"1\" class=\"dataframe\">\n",
       "  <thead>\n",
       "    <tr style=\"text-align: right;\">\n",
       "      <th></th>\n",
       "      <th>id</th>\n",
       "      <th>qid1</th>\n",
       "      <th>qid2</th>\n",
       "      <th>question1</th>\n",
       "      <th>question2</th>\n",
       "      <th>is_duplicate</th>\n",
       "      <th>len_q1</th>\n",
       "      <th>len_q2</th>\n",
       "      <th>diff_len</th>\n",
       "      <th>len_char_q1</th>\n",
       "      <th>len_char_q2</th>\n",
       "      <th>len_word_q1</th>\n",
       "      <th>len_word_q2</th>\n",
       "      <th>common_words</th>\n",
       "      <th>fuzzy_qratio</th>\n",
       "      <th>fuzzy_wratio</th>\n",
       "      <th>fuzzy_partial_ratio</th>\n",
       "      <th>fuzzy_partial_token_set_ratio</th>\n",
       "      <th>fuzzy_partial_token_sort_ratio</th>\n",
       "      <th>fuzzy_token_sort_ratio</th>\n",
       "      <th>fuzzy_token_set_ratio</th>\n",
       "    </tr>\n",
       "  </thead>\n",
       "  <tbody>\n",
       "    <tr>\n",
       "      <th>0</th>\n",
       "      <td>0</td>\n",
       "      <td>1</td>\n",
       "      <td>2</td>\n",
       "      <td>What is the step by step guide to invest in sh...</td>\n",
       "      <td>What is the step by step guide to invest in sh...</td>\n",
       "      <td>0</td>\n",
       "      <td>66</td>\n",
       "      <td>57</td>\n",
       "      <td>9</td>\n",
       "      <td>20</td>\n",
       "      <td>20</td>\n",
       "      <td>14</td>\n",
       "      <td>12</td>\n",
       "      <td>10</td>\n",
       "      <td>93</td>\n",
       "      <td>95</td>\n",
       "      <td>98</td>\n",
       "      <td>100</td>\n",
       "      <td>88</td>\n",
       "      <td>93</td>\n",
       "      <td>100</td>\n",
       "    </tr>\n",
       "    <tr>\n",
       "      <th>1</th>\n",
       "      <td>1</td>\n",
       "      <td>3</td>\n",
       "      <td>4</td>\n",
       "      <td>What is the story of Kohinoor (Koh-i-Noor) Dia...</td>\n",
       "      <td>What would happen if the Indian government sto...</td>\n",
       "      <td>0</td>\n",
       "      <td>51</td>\n",
       "      <td>88</td>\n",
       "      <td>-37</td>\n",
       "      <td>21</td>\n",
       "      <td>29</td>\n",
       "      <td>8</td>\n",
       "      <td>13</td>\n",
       "      <td>4</td>\n",
       "      <td>66</td>\n",
       "      <td>86</td>\n",
       "      <td>73</td>\n",
       "      <td>100</td>\n",
       "      <td>73</td>\n",
       "      <td>63</td>\n",
       "      <td>86</td>\n",
       "    </tr>\n",
       "    <tr>\n",
       "      <th>2</th>\n",
       "      <td>2</td>\n",
       "      <td>5</td>\n",
       "      <td>6</td>\n",
       "      <td>How can I increase the speed of my internet co...</td>\n",
       "      <td>How can Internet speed be increased by hacking...</td>\n",
       "      <td>0</td>\n",
       "      <td>73</td>\n",
       "      <td>59</td>\n",
       "      <td>14</td>\n",
       "      <td>25</td>\n",
       "      <td>24</td>\n",
       "      <td>14</td>\n",
       "      <td>10</td>\n",
       "      <td>4</td>\n",
       "      <td>43</td>\n",
       "      <td>60</td>\n",
       "      <td>41</td>\n",
       "      <td>100</td>\n",
       "      <td>71</td>\n",
       "      <td>63</td>\n",
       "      <td>63</td>\n",
       "    </tr>\n",
       "  </tbody>\n",
       "</table>\n",
       "</div>"
      ],
      "text/plain": [
       "   id  qid1  qid2                                          question1  \\\n",
       "0   0     1     2  What is the step by step guide to invest in sh...   \n",
       "1   1     3     4  What is the story of Kohinoor (Koh-i-Noor) Dia...   \n",
       "2   2     5     6  How can I increase the speed of my internet co...   \n",
       "\n",
       "                                           question2  is_duplicate  len_q1  \\\n",
       "0  What is the step by step guide to invest in sh...             0      66   \n",
       "1  What would happen if the Indian government sto...             0      51   \n",
       "2  How can Internet speed be increased by hacking...             0      73   \n",
       "\n",
       "   len_q2  diff_len  len_char_q1  len_char_q2  len_word_q1  len_word_q2  \\\n",
       "0      57         9           20           20           14           12   \n",
       "1      88       -37           21           29            8           13   \n",
       "2      59        14           25           24           14           10   \n",
       "\n",
       "   common_words  fuzzy_qratio  fuzzy_wratio  fuzzy_partial_ratio  \\\n",
       "0            10            93            95                   98   \n",
       "1             4            66            86                   73   \n",
       "2             4            43            60                   41   \n",
       "\n",
       "   fuzzy_partial_token_set_ratio  fuzzy_partial_token_sort_ratio  \\\n",
       "0                            100                              88   \n",
       "1                            100                              73   \n",
       "2                            100                              71   \n",
       "\n",
       "   fuzzy_token_sort_ratio  fuzzy_token_set_ratio  \n",
       "0                      93                    100  \n",
       "1                      63                     86  \n",
       "2                      63                     63  "
      ]
     },
     "execution_count": 5,
     "metadata": {},
     "output_type": "execute_result"
    }
   ],
   "source": [
    "df_train = generate_features(df_train)\n",
    "df_test = generate_features(df_test)\n",
    "df_train.head(3)"
   ]
  },
  {
   "cell_type": "markdown",
   "metadata": {},
   "source": [
    "### LDA (Lattent Dirichlet Allocation) features "
   ]
  },
  {
   "cell_type": "code",
   "execution_count": 6,
   "metadata": {
    "collapsed": false
   },
   "outputs": [],
   "source": [
    "# Steaming \n",
    "p_stemmer = PorterStemmer()\n",
    "STOP_WORDS = nltk.corpus.stopwords.words()\n",
    "\n",
    "def clean_sentence(val):\n",
    "    \"remove chars that are not letters or numbers, downcase, then remove stop words\"\n",
    "    regex = re.compile('([^\\s\\w]|_)+')\n",
    "    sentence = regex.sub('', val).lower()\n",
    "    sentence = sentence.split(\" \")\n",
    "    \n",
    "    for word in list(sentence):\n",
    "        if word in STOP_WORDS:\n",
    "            sentence.remove(word)  \n",
    "            \n",
    "    sentence = \" \".join(sentence)\n",
    "    return sentence\n",
    "\n",
    "def clean_dataframe(data):\n",
    "    \"drop nans, then apply 'clean_sentence' function to question1 and 2\"\n",
    "    data = data.dropna(how=\"any\")\n",
    "    \n",
    "    for col in ['question1', 'question2']:\n",
    "        data[col] = data[col].apply(clean_sentence)\n",
    "    \n",
    "    return data\n",
    "\n",
    "# Function to vuild a corpus\n",
    "def build_corpus(data):\n",
    "    \"Creates a list of lists containing words from each sentence\"\n",
    "    corpus = []\n",
    "    for col in ['question1', 'question2']:\n",
    "        for sentence in data[col].iteritems():\n",
    "            word_list = sentence[1].split(\" \")\n",
    "            corpus.append(word_list)\n",
    "    return corpus"
   ]
  },
  {
   "cell_type": "code",
   "execution_count": 7,
   "metadata": {
    "collapsed": false
   },
   "outputs": [],
   "source": [
    "data = clean_dataframe(df_train)\n",
    "corpus = build_corpus(data)\n",
    "dictionary = corpora.Dictionary(corpus)\n",
    "corpus = [dictionary.doc2bow(text) for text in corpus]\n",
    "ldamodel = models.ldamodel.LdaModel(corpus, num_topics=100, id2word = dictionary)"
   ]
  },
  {
   "cell_type": "code",
   "execution_count": 8,
   "metadata": {
    "collapsed": true
   },
   "outputs": [],
   "source": [
    "def common_lda_topic(sentence1,sentence2,dictionary,ldamodel,min_proba):\n",
    "    \"find #common topic based on lattent dirichlet allocation model\"\n",
    "    sentence1 = sentence1.split()\n",
    "    sentence2 = sentence2.split()\n",
    "\n",
    "    sentence1 = dictionary.doc2bow(sentence1)\n",
    "    sentence2 = dictionary.doc2bow(sentence2)\n",
    "    \n",
    "    topic_a = ldamodel.get_document_topics(sentence1,minimum_probability=min_proba)\n",
    "    topic_b = ldamodel.get_document_topics(sentence2,minimum_probability=min_proba)\n",
    "    \n",
    "    topic_a = list(sorted(topic_a, key=lambda x: x[1]))\n",
    "    topic_b = list(sorted(topic_b, key=lambda x: x[1]))\n",
    "    common_topic = set([x[0] for x in topic_a]).intersection(x[0] for x in topic_b)\n",
    "    return(len(common_topic))"
   ]
  },
  {
   "cell_type": "code",
   "execution_count": 9,
   "metadata": {
    "collapsed": false
   },
   "outputs": [],
   "source": [
    "#vis_data = gensimvis.prepare(ldamodel, corpus, dictionary)\n",
    "#pyLDAvis.display(vis_data)"
   ]
  },
  {
   "cell_type": "code",
   "execution_count": 10,
   "metadata": {
    "collapsed": false
   },
   "outputs": [],
   "source": [
    "df_train['common_topics'] = df_train.apply(lambda x:common_lda_topic(str(x['question1']),str(x['question2']),dictionary,ldamodel,0.1),axis=1)\n",
    "df_test['common_topics'] = df_test.apply(lambda x:common_lda_topic(str(x['question1']),str(x['question2']),dictionary,ldamodel,0.1),axis=1)"
   ]
  },
  {
   "cell_type": "markdown",
   "metadata": {},
   "source": [
    "### POS-Tagging features"
   ]
  },
  {
   "cell_type": "code",
   "execution_count": 11,
   "metadata": {
    "collapsed": true
   },
   "outputs": [],
   "source": [
    "def common_pos_tagging(question1,question2):\n",
    "    question1 = nltk.word_tokenize(question1)\n",
    "    question2 = nltk.word_tokenize(question2)\n",
    "    pos_question1 = nltk.pos_tag(question1)\n",
    "    pos_question2 = nltk.pos_tag(question2)\n",
    "\n",
    "    pos_1_array = [x[1] for x in pos_question1]\n",
    "    pos_2_array = [x[1] for x in pos_question2]\n",
    "    return(len(set(pos_1_array).intersection(pos_2_array)))"
   ]
  },
  {
   "cell_type": "code",
   "execution_count": 12,
   "metadata": {
    "collapsed": false
   },
   "outputs": [],
   "source": [
    "def count_distinct_pos_tagging(df_train):\n",
    "    #Generate all pos-tag null columns\n",
    "    tagdict = load('help/tagsets/upenn_tagset.pickle')\n",
    "    pos_tag = tagdict.keys()\n",
    "    for tag in pos_tag:\n",
    "        df_train[tag+\"_q1\"] = 0\n",
    "        df_train[tag+\"_q2\"] = 0\n",
    "        \n",
    "    for index, row in df_train.iterrows():\n",
    "        question1 = row.question1.decode('utf-8')\n",
    "        question1 = nltk.word_tokenize(question1)\n",
    "\n",
    "        question2 = row.question2.decode('utf-8')\n",
    "        question2 = nltk.word_tokenize(question2)\n",
    "\n",
    "        pos_question1 = nltk.pos_tag(question1)\n",
    "        pos_question1 = [x[1] for x in pos_question1]\n",
    "\n",
    "        pos_question2 = nltk.pos_tag(question2)\n",
    "        pos_question2 = [x[1] for x in pos_question2]\n",
    "\n",
    "        for tag in pos_question1:\n",
    "            if(tag != \"#\"):\n",
    "                df_train.set_value(index,tag+\"_q1\",row[tag+\"_q1\"]+1)\n",
    "\n",
    "        for tag in pos_question2:\n",
    "            if(tag != \"#\"):\n",
    "                df_train.set_value(index,tag+\"_q2\",row[tag+\"_q2\"]+1)"
   ]
  },
  {
   "cell_type": "code",
   "execution_count": 13,
   "metadata": {
    "collapsed": false
   },
   "outputs": [],
   "source": [
    "df_train['common_pos_count'] = df_train.apply(lambda x:common_pos_tagging(str(x['question1']).decode('utf-8'),str(x['question2']).decode('utf-8')),axis=1)\n",
    "df_test['common_pos_count'] = df_test.apply(lambda x:common_pos_tagging(str(x['question1']).decode('utf-8'),str(x['question2']).decode('utf-8')),axis=1)\n",
    "count_distinct_pos_tagging(df_train)\n",
    "count_distinct_pos_tagging(df_test)"
   ]
  },
  {
   "cell_type": "code",
   "execution_count": 14,
   "metadata": {
    "collapsed": false
   },
   "outputs": [
    {
     "data": {
      "text/html": [
       "<div>\n",
       "<table border=\"1\" class=\"dataframe\">\n",
       "  <thead>\n",
       "    <tr style=\"text-align: right;\">\n",
       "      <th></th>\n",
       "      <th>id</th>\n",
       "      <th>qid1</th>\n",
       "      <th>qid2</th>\n",
       "      <th>question1</th>\n",
       "      <th>question2</th>\n",
       "      <th>is_duplicate</th>\n",
       "      <th>len_q1</th>\n",
       "      <th>len_q2</th>\n",
       "      <th>diff_len</th>\n",
       "      <th>len_char_q1</th>\n",
       "      <th>len_char_q2</th>\n",
       "      <th>len_word_q1</th>\n",
       "      <th>len_word_q2</th>\n",
       "      <th>common_words</th>\n",
       "      <th>fuzzy_qratio</th>\n",
       "      <th>fuzzy_wratio</th>\n",
       "      <th>fuzzy_partial_ratio</th>\n",
       "      <th>fuzzy_partial_token_set_ratio</th>\n",
       "      <th>fuzzy_partial_token_sort_ratio</th>\n",
       "      <th>fuzzy_token_sort_ratio</th>\n",
       "      <th>fuzzy_token_set_ratio</th>\n",
       "      <th>common_topics</th>\n",
       "      <th>common_pos_count</th>\n",
       "      <th>PRP$_q1</th>\n",
       "      <th>PRP$_q2</th>\n",
       "      <th>VBG_q1</th>\n",
       "      <th>VBG_q2</th>\n",
       "      <th>VBD_q1</th>\n",
       "      <th>VBD_q2</th>\n",
       "      <th>``_q1</th>\n",
       "      <th>``_q2</th>\n",
       "      <th>VBN_q1</th>\n",
       "      <th>VBN_q2</th>\n",
       "      <th>,_q1</th>\n",
       "      <th>,_q2</th>\n",
       "      <th>''_q1</th>\n",
       "      <th>''_q2</th>\n",
       "      <th>VBP_q1</th>\n",
       "      <th>VBP_q2</th>\n",
       "      <th>WDT_q1</th>\n",
       "      <th>WDT_q2</th>\n",
       "      <th>JJ_q1</th>\n",
       "      <th>JJ_q2</th>\n",
       "      <th>WP_q1</th>\n",
       "      <th>WP_q2</th>\n",
       "      <th>VBZ_q1</th>\n",
       "      <th>VBZ_q2</th>\n",
       "      <th>DT_q1</th>\n",
       "      <th>DT_q2</th>\n",
       "      <th>RP_q1</th>\n",
       "      <th>RP_q2</th>\n",
       "      <th>$_q1</th>\n",
       "      <th>$_q2</th>\n",
       "      <th>NN_q1</th>\n",
       "      <th>NN_q2</th>\n",
       "      <th>)_q1</th>\n",
       "      <th>)_q2</th>\n",
       "      <th>(_q1</th>\n",
       "      <th>(_q2</th>\n",
       "      <th>FW_q1</th>\n",
       "      <th>FW_q2</th>\n",
       "      <th>POS_q1</th>\n",
       "      <th>POS_q2</th>\n",
       "      <th>._q1</th>\n",
       "      <th>._q2</th>\n",
       "      <th>TO_q1</th>\n",
       "      <th>TO_q2</th>\n",
       "      <th>LS_q1</th>\n",
       "      <th>LS_q2</th>\n",
       "      <th>RB_q1</th>\n",
       "      <th>RB_q2</th>\n",
       "      <th>:_q1</th>\n",
       "      <th>:_q2</th>\n",
       "      <th>NNS_q1</th>\n",
       "      <th>NNS_q2</th>\n",
       "      <th>NNP_q1</th>\n",
       "      <th>NNP_q2</th>\n",
       "      <th>VB_q1</th>\n",
       "      <th>VB_q2</th>\n",
       "      <th>WRB_q1</th>\n",
       "      <th>WRB_q2</th>\n",
       "      <th>CC_q1</th>\n",
       "      <th>CC_q2</th>\n",
       "      <th>PDT_q1</th>\n",
       "      <th>PDT_q2</th>\n",
       "      <th>RBS_q1</th>\n",
       "      <th>RBS_q2</th>\n",
       "      <th>RBR_q1</th>\n",
       "      <th>RBR_q2</th>\n",
       "      <th>CD_q1</th>\n",
       "      <th>CD_q2</th>\n",
       "      <th>PRP_q1</th>\n",
       "      <th>PRP_q2</th>\n",
       "      <th>EX_q1</th>\n",
       "      <th>EX_q2</th>\n",
       "      <th>IN_q1</th>\n",
       "      <th>IN_q2</th>\n",
       "      <th>WP$_q1</th>\n",
       "      <th>WP$_q2</th>\n",
       "      <th>MD_q1</th>\n",
       "      <th>MD_q2</th>\n",
       "      <th>NNPS_q1</th>\n",
       "      <th>NNPS_q2</th>\n",
       "      <th>--_q1</th>\n",
       "      <th>--_q2</th>\n",
       "      <th>JJS_q1</th>\n",
       "      <th>JJS_q2</th>\n",
       "      <th>JJR_q1</th>\n",
       "      <th>JJR_q2</th>\n",
       "      <th>SYM_q1</th>\n",
       "      <th>SYM_q2</th>\n",
       "      <th>UH_q1</th>\n",
       "      <th>UH_q2</th>\n",
       "    </tr>\n",
       "  </thead>\n",
       "  <tbody>\n",
       "    <tr>\n",
       "      <th>0</th>\n",
       "      <td>0</td>\n",
       "      <td>1</td>\n",
       "      <td>2</td>\n",
       "      <td>What is the step by step guide to invest in sh...</td>\n",
       "      <td>What is the step by step guide to invest in sh...</td>\n",
       "      <td>0</td>\n",
       "      <td>66</td>\n",
       "      <td>57</td>\n",
       "      <td>9</td>\n",
       "      <td>20</td>\n",
       "      <td>20</td>\n",
       "      <td>14</td>\n",
       "      <td>12</td>\n",
       "      <td>10</td>\n",
       "      <td>93</td>\n",
       "      <td>95</td>\n",
       "      <td>98</td>\n",
       "      <td>100</td>\n",
       "      <td>88</td>\n",
       "      <td>93</td>\n",
       "      <td>100</td>\n",
       "      <td>1</td>\n",
       "      <td>9</td>\n",
       "      <td>0</td>\n",
       "      <td>0</td>\n",
       "      <td>0</td>\n",
       "      <td>0</td>\n",
       "      <td>0</td>\n",
       "      <td>0</td>\n",
       "      <td>0</td>\n",
       "      <td>0</td>\n",
       "      <td>0</td>\n",
       "      <td>0</td>\n",
       "      <td>0</td>\n",
       "      <td>0</td>\n",
       "      <td>0</td>\n",
       "      <td>0</td>\n",
       "      <td>0</td>\n",
       "      <td>0</td>\n",
       "      <td>0</td>\n",
       "      <td>0</td>\n",
       "      <td>0</td>\n",
       "      <td>0</td>\n",
       "      <td>1</td>\n",
       "      <td>1</td>\n",
       "      <td>1</td>\n",
       "      <td>1</td>\n",
       "      <td>1</td>\n",
       "      <td>1</td>\n",
       "      <td>0</td>\n",
       "      <td>0</td>\n",
       "      <td>0</td>\n",
       "      <td>0</td>\n",
       "      <td>1</td>\n",
       "      <td>1</td>\n",
       "      <td>0</td>\n",
       "      <td>0</td>\n",
       "      <td>0</td>\n",
       "      <td>0</td>\n",
       "      <td>0</td>\n",
       "      <td>0</td>\n",
       "      <td>0</td>\n",
       "      <td>0</td>\n",
       "      <td>1</td>\n",
       "      <td>1</td>\n",
       "      <td>1</td>\n",
       "      <td>1</td>\n",
       "      <td>0</td>\n",
       "      <td>0</td>\n",
       "      <td>1</td>\n",
       "      <td>1</td>\n",
       "      <td>0</td>\n",
       "      <td>0</td>\n",
       "      <td>0</td>\n",
       "      <td>0</td>\n",
       "      <td>0</td>\n",
       "      <td>0</td>\n",
       "      <td>1</td>\n",
       "      <td>1</td>\n",
       "      <td>0</td>\n",
       "      <td>0</td>\n",
       "      <td>0</td>\n",
       "      <td>0</td>\n",
       "      <td>0</td>\n",
       "      <td>0</td>\n",
       "      <td>0</td>\n",
       "      <td>0</td>\n",
       "      <td>0</td>\n",
       "      <td>0</td>\n",
       "      <td>0</td>\n",
       "      <td>0</td>\n",
       "      <td>0</td>\n",
       "      <td>0</td>\n",
       "      <td>0</td>\n",
       "      <td>0</td>\n",
       "      <td>1</td>\n",
       "      <td>1</td>\n",
       "      <td>0</td>\n",
       "      <td>0</td>\n",
       "      <td>0</td>\n",
       "      <td>0</td>\n",
       "      <td>0</td>\n",
       "      <td>0</td>\n",
       "      <td>0</td>\n",
       "      <td>0</td>\n",
       "      <td>0</td>\n",
       "      <td>0</td>\n",
       "      <td>0</td>\n",
       "      <td>0</td>\n",
       "      <td>0</td>\n",
       "      <td>0</td>\n",
       "      <td>0</td>\n",
       "      <td>0</td>\n",
       "    </tr>\n",
       "    <tr>\n",
       "      <th>1</th>\n",
       "      <td>1</td>\n",
       "      <td>3</td>\n",
       "      <td>4</td>\n",
       "      <td>What is the story of Kohinoor (Koh-i-Noor) Dia...</td>\n",
       "      <td>What would happen if the Indian government sto...</td>\n",
       "      <td>0</td>\n",
       "      <td>51</td>\n",
       "      <td>88</td>\n",
       "      <td>-37</td>\n",
       "      <td>21</td>\n",
       "      <td>29</td>\n",
       "      <td>8</td>\n",
       "      <td>13</td>\n",
       "      <td>4</td>\n",
       "      <td>66</td>\n",
       "      <td>86</td>\n",
       "      <td>73</td>\n",
       "      <td>100</td>\n",
       "      <td>73</td>\n",
       "      <td>63</td>\n",
       "      <td>86</td>\n",
       "      <td>0</td>\n",
       "      <td>8</td>\n",
       "      <td>0</td>\n",
       "      <td>0</td>\n",
       "      <td>0</td>\n",
       "      <td>0</td>\n",
       "      <td>0</td>\n",
       "      <td>1</td>\n",
       "      <td>0</td>\n",
       "      <td>0</td>\n",
       "      <td>0</td>\n",
       "      <td>0</td>\n",
       "      <td>0</td>\n",
       "      <td>0</td>\n",
       "      <td>0</td>\n",
       "      <td>0</td>\n",
       "      <td>0</td>\n",
       "      <td>0</td>\n",
       "      <td>0</td>\n",
       "      <td>0</td>\n",
       "      <td>0</td>\n",
       "      <td>1</td>\n",
       "      <td>1</td>\n",
       "      <td>1</td>\n",
       "      <td>1</td>\n",
       "      <td>0</td>\n",
       "      <td>1</td>\n",
       "      <td>1</td>\n",
       "      <td>0</td>\n",
       "      <td>0</td>\n",
       "      <td>0</td>\n",
       "      <td>0</td>\n",
       "      <td>1</td>\n",
       "      <td>1</td>\n",
       "      <td>1</td>\n",
       "      <td>1</td>\n",
       "      <td>1</td>\n",
       "      <td>1</td>\n",
       "      <td>0</td>\n",
       "      <td>0</td>\n",
       "      <td>0</td>\n",
       "      <td>0</td>\n",
       "      <td>1</td>\n",
       "      <td>1</td>\n",
       "      <td>0</td>\n",
       "      <td>0</td>\n",
       "      <td>0</td>\n",
       "      <td>0</td>\n",
       "      <td>0</td>\n",
       "      <td>1</td>\n",
       "      <td>0</td>\n",
       "      <td>0</td>\n",
       "      <td>0</td>\n",
       "      <td>0</td>\n",
       "      <td>1</td>\n",
       "      <td>1</td>\n",
       "      <td>0</td>\n",
       "      <td>1</td>\n",
       "      <td>0</td>\n",
       "      <td>0</td>\n",
       "      <td>0</td>\n",
       "      <td>0</td>\n",
       "      <td>0</td>\n",
       "      <td>0</td>\n",
       "      <td>0</td>\n",
       "      <td>0</td>\n",
       "      <td>0</td>\n",
       "      <td>0</td>\n",
       "      <td>0</td>\n",
       "      <td>0</td>\n",
       "      <td>0</td>\n",
       "      <td>0</td>\n",
       "      <td>0</td>\n",
       "      <td>0</td>\n",
       "      <td>1</td>\n",
       "      <td>1</td>\n",
       "      <td>0</td>\n",
       "      <td>0</td>\n",
       "      <td>0</td>\n",
       "      <td>1</td>\n",
       "      <td>0</td>\n",
       "      <td>0</td>\n",
       "      <td>0</td>\n",
       "      <td>0</td>\n",
       "      <td>0</td>\n",
       "      <td>0</td>\n",
       "      <td>0</td>\n",
       "      <td>0</td>\n",
       "      <td>0</td>\n",
       "      <td>0</td>\n",
       "      <td>0</td>\n",
       "      <td>0</td>\n",
       "    </tr>\n",
       "    <tr>\n",
       "      <th>2</th>\n",
       "      <td>2</td>\n",
       "      <td>5</td>\n",
       "      <td>6</td>\n",
       "      <td>How can I increase the speed of my internet co...</td>\n",
       "      <td>How can Internet speed be increased by hacking...</td>\n",
       "      <td>0</td>\n",
       "      <td>73</td>\n",
       "      <td>59</td>\n",
       "      <td>14</td>\n",
       "      <td>25</td>\n",
       "      <td>24</td>\n",
       "      <td>14</td>\n",
       "      <td>10</td>\n",
       "      <td>4</td>\n",
       "      <td>43</td>\n",
       "      <td>60</td>\n",
       "      <td>41</td>\n",
       "      <td>100</td>\n",
       "      <td>71</td>\n",
       "      <td>63</td>\n",
       "      <td>63</td>\n",
       "      <td>0</td>\n",
       "      <td>8</td>\n",
       "      <td>1</td>\n",
       "      <td>0</td>\n",
       "      <td>1</td>\n",
       "      <td>1</td>\n",
       "      <td>0</td>\n",
       "      <td>0</td>\n",
       "      <td>0</td>\n",
       "      <td>0</td>\n",
       "      <td>0</td>\n",
       "      <td>1</td>\n",
       "      <td>0</td>\n",
       "      <td>0</td>\n",
       "      <td>0</td>\n",
       "      <td>0</td>\n",
       "      <td>0</td>\n",
       "      <td>0</td>\n",
       "      <td>0</td>\n",
       "      <td>0</td>\n",
       "      <td>1</td>\n",
       "      <td>0</td>\n",
       "      <td>0</td>\n",
       "      <td>0</td>\n",
       "      <td>0</td>\n",
       "      <td>0</td>\n",
       "      <td>1</td>\n",
       "      <td>0</td>\n",
       "      <td>0</td>\n",
       "      <td>0</td>\n",
       "      <td>0</td>\n",
       "      <td>0</td>\n",
       "      <td>1</td>\n",
       "      <td>1</td>\n",
       "      <td>0</td>\n",
       "      <td>0</td>\n",
       "      <td>0</td>\n",
       "      <td>0</td>\n",
       "      <td>0</td>\n",
       "      <td>0</td>\n",
       "      <td>0</td>\n",
       "      <td>0</td>\n",
       "      <td>1</td>\n",
       "      <td>1</td>\n",
       "      <td>0</td>\n",
       "      <td>0</td>\n",
       "      <td>0</td>\n",
       "      <td>0</td>\n",
       "      <td>0</td>\n",
       "      <td>0</td>\n",
       "      <td>0</td>\n",
       "      <td>0</td>\n",
       "      <td>0</td>\n",
       "      <td>0</td>\n",
       "      <td>1</td>\n",
       "      <td>1</td>\n",
       "      <td>1</td>\n",
       "      <td>1</td>\n",
       "      <td>1</td>\n",
       "      <td>1</td>\n",
       "      <td>0</td>\n",
       "      <td>0</td>\n",
       "      <td>0</td>\n",
       "      <td>0</td>\n",
       "      <td>0</td>\n",
       "      <td>0</td>\n",
       "      <td>0</td>\n",
       "      <td>0</td>\n",
       "      <td>0</td>\n",
       "      <td>0</td>\n",
       "      <td>1</td>\n",
       "      <td>0</td>\n",
       "      <td>0</td>\n",
       "      <td>0</td>\n",
       "      <td>1</td>\n",
       "      <td>1</td>\n",
       "      <td>0</td>\n",
       "      <td>0</td>\n",
       "      <td>1</td>\n",
       "      <td>1</td>\n",
       "      <td>0</td>\n",
       "      <td>0</td>\n",
       "      <td>0</td>\n",
       "      <td>0</td>\n",
       "      <td>0</td>\n",
       "      <td>0</td>\n",
       "      <td>0</td>\n",
       "      <td>0</td>\n",
       "      <td>0</td>\n",
       "      <td>0</td>\n",
       "      <td>0</td>\n",
       "      <td>0</td>\n",
       "    </tr>\n",
       "  </tbody>\n",
       "</table>\n",
       "</div>"
      ],
      "text/plain": [
       "   id  qid1  qid2                                          question1  \\\n",
       "0   0     1     2  What is the step by step guide to invest in sh...   \n",
       "1   1     3     4  What is the story of Kohinoor (Koh-i-Noor) Dia...   \n",
       "2   2     5     6  How can I increase the speed of my internet co...   \n",
       "\n",
       "                                           question2  is_duplicate  len_q1  \\\n",
       "0  What is the step by step guide to invest in sh...             0      66   \n",
       "1  What would happen if the Indian government sto...             0      51   \n",
       "2  How can Internet speed be increased by hacking...             0      73   \n",
       "\n",
       "   len_q2  diff_len  len_char_q1  len_char_q2  len_word_q1  len_word_q2  \\\n",
       "0      57         9           20           20           14           12   \n",
       "1      88       -37           21           29            8           13   \n",
       "2      59        14           25           24           14           10   \n",
       "\n",
       "   common_words  fuzzy_qratio  fuzzy_wratio  fuzzy_partial_ratio  \\\n",
       "0            10            93            95                   98   \n",
       "1             4            66            86                   73   \n",
       "2             4            43            60                   41   \n",
       "\n",
       "   fuzzy_partial_token_set_ratio  fuzzy_partial_token_sort_ratio  \\\n",
       "0                            100                              88   \n",
       "1                            100                              73   \n",
       "2                            100                              71   \n",
       "\n",
       "   fuzzy_token_sort_ratio  fuzzy_token_set_ratio  common_topics  \\\n",
       "0                      93                    100              1   \n",
       "1                      63                     86              0   \n",
       "2                      63                     63              0   \n",
       "\n",
       "   common_pos_count  PRP$_q1  PRP$_q2  VBG_q1  VBG_q2  VBD_q1  VBD_q2  ``_q1  \\\n",
       "0                 9        0        0       0       0       0       0      0   \n",
       "1                 8        0        0       0       0       0       1      0   \n",
       "2                 8        1        0       1       1       0       0      0   \n",
       "\n",
       "   ``_q2  VBN_q1  VBN_q2  ,_q1  ,_q2  ''_q1  ''_q2  VBP_q1  VBP_q2  WDT_q1  \\\n",
       "0      0       0       0     0     0      0      0       0       0       0   \n",
       "1      0       0       0     0     0      0      0       0       0       0   \n",
       "2      0       0       1     0     0      0      0       0       0       0   \n",
       "\n",
       "   WDT_q2  JJ_q1  JJ_q2  WP_q1  WP_q2  VBZ_q1  VBZ_q2  DT_q1  DT_q2  RP_q1  \\\n",
       "0       0      0      0      1      1       1       1      1      1      0   \n",
       "1       0      0      1      1      1       1       0      1      1      0   \n",
       "2       0      1      0      0      0       0       0      1      0      0   \n",
       "\n",
       "   RP_q2  $_q1  $_q2  NN_q1  NN_q2  )_q1  )_q2  (_q1  (_q2  FW_q1  FW_q2  \\\n",
       "0      0     0     0      1      1     0     0     0     0      0      0   \n",
       "1      0     0     0      1      1     1     1     1     1      0      0   \n",
       "2      0     0     0      1      1     0     0     0     0      0      0   \n",
       "\n",
       "   POS_q1  POS_q2  ._q1  ._q2  TO_q1  TO_q2  LS_q1  LS_q2  RB_q1  RB_q2  :_q1  \\\n",
       "0       0       0     1     1      1      1      0      0      1      1     0   \n",
       "1       0       0     1     1      0      0      0      0      0      1     0   \n",
       "2       0       0     1     1      0      0      0      0      0      0     0   \n",
       "\n",
       "   :_q2  NNS_q1  NNS_q2  NNP_q1  NNP_q2  VB_q1  VB_q2  WRB_q1  WRB_q2  CC_q1  \\\n",
       "0     0       0       0       0       0      1      1       0       0      0   \n",
       "1     0       0       0       1       1      0      1       0       0      0   \n",
       "2     0       0       0       1       1      1      1       1       1      0   \n",
       "\n",
       "   CC_q2  PDT_q1  PDT_q2  RBS_q1  RBS_q2  RBR_q1  RBR_q2  CD_q1  CD_q2  \\\n",
       "0      0       0       0       0       0       0       0      0      0   \n",
       "1      0       0       0       0       0       0       0      0      0   \n",
       "2      0       0       0       0       0       0       0      0      0   \n",
       "\n",
       "   PRP_q1  PRP_q2  EX_q1  EX_q2  IN_q1  IN_q2  WP$_q1  WP$_q2  MD_q1  MD_q2  \\\n",
       "0       0       0      0      0      1      1       0       0      0      0   \n",
       "1       0       0      0      0      1      1       0       0      0      1   \n",
       "2       1       0      0      0      1      1       0       0      1      1   \n",
       "\n",
       "   NNPS_q1  NNPS_q2  --_q1  --_q2  JJS_q1  JJS_q2  JJR_q1  JJR_q2  SYM_q1  \\\n",
       "0        0        0      0      0       0       0       0       0       0   \n",
       "1        0        0      0      0       0       0       0       0       0   \n",
       "2        0        0      0      0       0       0       0       0       0   \n",
       "\n",
       "   SYM_q2  UH_q1  UH_q2  \n",
       "0       0      0      0  \n",
       "1       0      0      0  \n",
       "2       0      0      0  "
      ]
     },
     "execution_count": 14,
     "metadata": {},
     "output_type": "execute_result"
    }
   ],
   "source": [
    "df_train.head(3)"
   ]
  },
  {
   "cell_type": "markdown",
   "metadata": {},
   "source": [
    "# Word2vec features \n",
    "Word2Vec creates a multi-dimensional vector for every word in the english vocabulary (or the corpus it has been trained on). Word2Vec embeddings are very popular in natural language processing and always provide us with great insights. Wikipedia provides a good explanation of what these embeddings are and how they are generated (https://en.wikipedia.org/wiki/Word2vec)."
   ]
  },
  {
   "cell_type": "code",
   "execution_count": 15,
   "metadata": {
    "collapsed": false
   },
   "outputs": [],
   "source": [
    "model = gn.models.KeyedVectors.load_word2vec_format('./data/GoogleNews-vectors-negative300.bin', binary=True)\n",
    "model.init_sims(replace=True)"
   ]
  },
  {
   "cell_type": "code",
   "execution_count": 16,
   "metadata": {
    "collapsed": false
   },
   "outputs": [
    {
     "name": "stdout",
     "output_type": "stream",
     "text": [
      "Word2vec mean of president : 0.00630775932223 mean of obama 0.00169826287311\n"
     ]
    }
   ],
   "source": [
    "print(\"Word2vec mean of president : {} mean of obama {}\".format(model['president'].mean(),model['king'].mean()))"
   ]
  },
  {
   "cell_type": "markdown",
   "metadata": {},
   "source": [
    "The idea here is to build a vector of each word in differents sentences (question1, question2), each word will be presented in a 300 dimensions vector. So we will try to calculate the average of these vector in order to compare the result obtained in the first and second question. I will try to calculate differents distances based on theses vectors such as euclidiant distance, cosine similiratity, hamming distance ... and generate some features based on semantic of words. So, if sentence $s1$ contains $K$ words, we can present this sentence by $K$ arrays of $300$ dimensions. So a matrix of $[K*300]$.\n",
    "\n",
    "An example of the application of this model is to find the word the most similar to a particular word (semantic sense I mean). Lets try to find the most similar word to `Obama`."
   ]
  },
  {
   "cell_type": "code",
   "execution_count": 17,
   "metadata": {
    "collapsed": false
   },
   "outputs": [
    {
     "data": {
      "text/plain": [
       "[(u'Barack_Obama', 0.8036513328552246),\n",
       " (u'President_Barack_Obama', 0.7878769040107727),\n",
       " (u'McCain', 0.7555227279663086),\n",
       " (u'Clinton', 0.7526832818984985),\n",
       " (u'Illinois_senator', 0.74974524974823),\n",
       " (u'Biden', 0.7485178709030151),\n",
       " (u'Bush', 0.7348896265029907),\n",
       " (u'Barack', 0.7290467023849487),\n",
       " (u'White_House', 0.7151209115982056),\n",
       " (u'elect_Barack_Obama', 0.6941337585449219)]"
      ]
     },
     "execution_count": 17,
     "metadata": {},
     "output_type": "execute_result"
    }
   ],
   "source": [
    "model.most_similar(positive=[\"Obama\"])"
   ]
  },
  {
   "cell_type": "code",
   "execution_count": 18,
   "metadata": {
    "collapsed": true
   },
   "outputs": [],
   "source": [
    "def sent2vec(s):\n",
    "    words = str(s).lower().decode('utf-8')\n",
    "    words = nltk.word_tokenize(words)\n",
    "    words = [w for w in words if not w in STOP_WORDS]\n",
    "    words = [w for w in words if w.isalpha()]\n",
    "    M = []\n",
    "    for w in words:\n",
    "        try:\n",
    "            M.append(model[w])\n",
    "        except:\n",
    "            continue\n",
    "    M = np.array(M)\n",
    "    return M"
   ]
  },
  {
   "cell_type": "markdown",
   "metadata": {},
   "source": [
    "We will take now an example of a sentence and apply the word2vec model of words that contains, Lets take the first observation of the train dataframe. It's `'What is the step by step guide to invest in share market in india?'`, so this sentences contains 7 words (after deleting stop words). So this sentence will be presented by a $[7*300]$ matrix. Let's do that"
   ]
  },
  {
   "cell_type": "code",
   "execution_count": 19,
   "metadata": {
    "collapsed": false
   },
   "outputs": [
    {
     "name": "stdout",
     "output_type": "stream",
     "text": [
      "The sentences vectors [[-0.07852414  0.04130891  0.04205321 ...,  0.11536722  0.02307344\n",
      "  -0.00869906]\n",
      " [-0.07852414  0.04130891  0.04205321 ...,  0.11536722  0.02307344\n",
      "  -0.00869906]\n",
      " [ 0.01465341 -0.00877338 -0.0530136  ..., -0.01913343  0.06570699\n",
      "   0.05861362]\n",
      " ..., \n",
      " [-0.02046456 -0.02115659 -0.04092911 ..., -0.03796323 -0.0039545\n",
      "  -0.08660363]\n",
      " [-0.06247045 -0.03513963 -0.09175348 ...,  0.05661384  0.01893635\n",
      "  -0.00541736]\n",
      " [-0.0631949  -0.01935344  0.00284706 ..., -0.02567293 -0.03133414\n",
      "  -0.03028089]], the shape of this vector is : (7, 300)\n"
     ]
    }
   ],
   "source": [
    "m = sent2vec(df_train.iloc[0].question1)\n",
    "print(\"The sentences vectors {}, the shape of this vector is : {}\".format(m,m.shape))"
   ]
  },
  {
   "cell_type": "markdown",
   "metadata": {},
   "source": [
    "The disadvantage of the `word2vec` model that we can't present all the sentence but only words, so we will try some metodologies to present all the sentence using the `word2vec` model, we will for example try to sum the `word2vec` array and calculate the distance between the 2 questions. So each question will be presented using a ${R}^{300}$ vector, and calculate the distance between two ${R}^{300}$ vectors"
   ]
  },
  {
   "cell_type": "code",
   "execution_count": 20,
   "metadata": {
    "collapsed": false
   },
   "outputs": [
    {
     "data": {
      "text/plain": [
       "[(u'Barack_Obama', 0.8036513328552246),\n",
       " (u'President_Barack_Obama', 0.7878769040107727),\n",
       " (u'McCain', 0.7555227279663086),\n",
       " (u'Clinton', 0.7526832818984985),\n",
       " (u'Illinois_senator', 0.74974524974823),\n",
       " (u'Biden', 0.7485178709030151),\n",
       " (u'Bush', 0.7348896265029907),\n",
       " (u'Barack', 0.7290467023849487),\n",
       " (u'White_House', 0.7151209115982056),\n",
       " (u'elect_Barack_Obama', 0.6941337585449219)]"
      ]
     },
     "execution_count": 20,
     "metadata": {},
     "output_type": "execute_result"
    }
   ],
   "source": [
    "model.most_similar(positive=[\"Obama\"])"
   ]
  },
  {
   "cell_type": "markdown",
   "metadata": {
    "collapsed": false
   },
   "source": [
    "### Word mover's distance feature : \n",
    "In document classification and other natural language processing applications, having a good measure of the similarity of two texts can be a valuable building block. Ideally, such a measure would capture semantic information. Cosine similarity on bag-of-words vectors is known to do well in practice, but it inherently cannot capture when documents say the same thing in completely different words. Take, for example, two headlines:\n",
    "\n",
    "<b>`- Obama speaks to the media in Illinois`</b>\n",
    "\n",
    "<b>`- The President greets the press in Chicago`</b>\n",
    "\n",
    "These have no content words in common, so according to most bag of words—based metrics, their distance would be maximal. (For such applications, you probably don’t want to count stopwords such as the and in, which don’t truly signal semantic similarity.)\n",
    "\n",
    "\n",
    "The distance between two texts is given by the total amount of “mass” needed to move the words from one side into the other, multiplied by the distance the words need to move. So, starting from a measure of the distance between different words, we can get a principled document-level distance."
   ]
  },
  {
   "cell_type": "code",
   "execution_count": 33,
   "metadata": {
    "collapsed": true
   },
   "outputs": [],
   "source": [
    "def wmd(s1,s2):\n",
    "    s1 = str(s1).lower().decode('utf-8').split()\n",
    "    s2 = str(s2).lower().decode('utf-8').split()\n",
    "    s1 = [w for w in s1 if w not in STOP_WORDS]\n",
    "    s2 = [w for w in s2 if w not in STOP_WORDS]\n",
    "    return model.wmdistance(s1,s2)"
   ]
  },
  {
   "cell_type": "code",
   "execution_count": 24,
   "metadata": {
    "collapsed": false
   },
   "outputs": [],
   "source": [
    "df_train['wmd'] = df_train.apply(lambda x:model.wmdistance(x['question1'],x['question2']),axis=1)\n",
    "df_test['wmd'] = df_test.apply(lambda x:model.wmdistance(x['question1'],x['question2']),axis=1)"
   ]
  },
  {
   "cell_type": "code",
   "execution_count": 32,
   "metadata": {
    "collapsed": false
   },
   "outputs": [
    {
     "data": {
      "text/plain": [
       "count    1000.000000\n",
       "mean        0.268004\n",
       "std         0.125539\n",
       "min         0.000000\n",
       "25%         0.186729\n",
       "50%         0.257678\n",
       "75%         0.330898\n",
       "max         1.105248\n",
       "Name: wmd, dtype: float64"
      ]
     },
     "execution_count": 32,
     "metadata": {},
     "output_type": "execute_result"
    }
   ],
   "source": [
    "df_train.wmd.describe()"
   ]
  },
  {
   "cell_type": "markdown",
   "metadata": {},
   "source": [
    "### Calculcate differents distances (euclidian, cosine, jaccard, monkowski ...)\n",
    "We will try now to calculate the distance between two questions. i.e between the two ${R}^{300}$ vector, so we will present these two vector as 2 points in a plan of $300$ dimensions, and calculate the distance between those points. Let's do that"
   ]
  },
  {
   "cell_type": "code",
   "execution_count": 39,
   "metadata": {
    "collapsed": false
   },
   "outputs": [],
   "source": [
    "def word2vec_sentences(s):\n",
    "    M = sent2vec(s)\n",
    "    v = M.sum(axis=0)\n",
    "    return v / np.sqrt((v ** 2).sum())"
   ]
  },
  {
   "cell_type": "code",
   "execution_count": 66,
   "metadata": {
    "collapsed": false
   },
   "outputs": [
    {
     "name": "stderr",
     "output_type": "stream",
     "text": [
      "159it [00:00, 1581.79it/s]/Users/aissaelouafi/anaconda2/lib/python2.7/site-packages/ipykernel/__main__.py:4: RuntimeWarning: invalid value encountered in double_scalars\n",
      "1000it [00:00, 1736.90it/s]\n",
      "1000it [00:00, 1778.51it/s]\n",
      "1000it [00:00, 1723.37it/s]\n",
      "1000it [00:00, 1683.48it/s]\n"
     ]
    }
   ],
   "source": [
    "# Array contains the word2vec sum (sentences)\n",
    "question1_vectors = np.zeros((df_train.shape[0], 300))\n",
    "question2_vectors = np.zeros((df_train.shape[0], 300))\n",
    "\n",
    "question1_test_vectors = np.zeros((df_train.shape[0], 300))\n",
    "question2_test_vectors = np.zeros((df_train.shape[0], 300))\n",
    "for i, q in tqdm(enumerate(df_train.question1.values)):\n",
    "    question1_vectors[i, :] = word2vec_sentences(q)\n",
    "\n",
    "for i,q in tqdm(enumerate(df_train.question2.values)):\n",
    "    question2_vectors[i, :] = word2vec_sentences(q)\n",
    "    \n",
    "for i, q in tqdm(enumerate(df_test.question1.values)):\n",
    "    question1_test_vectors[i, :] = word2vec_sentences(q)\n",
    "\n",
    "for i,q in tqdm(enumerate(df_test.question2.values)):\n",
    "    question2_test_vectors[i, :] = word2vec_sentences(q)"
   ]
  },
  {
   "cell_type": "code",
   "execution_count": 98,
   "metadata": {
    "collapsed": false
   },
   "outputs": [],
   "source": [
    "df_train['cosine_distance'] = [cosine(x, y) for (x, y) in zip(np.nan_to_num(question1_vectors),np.nan_to_num(question2_vectors))]\n",
    "df_train['euclidean_distance'] = [euclidean(x, y) for(x, y) in zip(np.nan_to_num(question1_vectors),np.nan_to_num(question2_vectors))]\n",
    "\n",
    "df_test['cosine_distance'] = [cosine(x, y) for (x, y) in zip(np.nan_to_num(question1_test_vectors),np.nan_to_num(question2_test_vectors))]\n",
    "df_test['euclidean_distance'] = [euclidean(x, y) for(x, y) in zip(np.nan_to_num(question1_test_vectors),np.nan_to_num(question2_test_vectors))]\n",
    "\n",
    "\n",
    "df_train['jaccard_distance'] = [jaccard(x, y) for (x, y) in zip(np.nan_to_num(question1_vectors),np.nan_to_num(question2_vectors))]\n",
    "df_test['jaccard_distance'] = [jaccard(x, y) for(x, y) in zip(np.nan_to_num(question1_test_vectors),np.nan_to_num(question2_test_vectors))]\n",
    "\n",
    "\n",
    "df_train['canberra_distance'] = [canberra(x, y) for (x, y) in zip(np.nan_to_num(question1_vectors),np.nan_to_num(question2_vectors))]\n",
    "df_test['canberra_distance'] = [canberra(x, y) for(x, y) in zip(np.nan_to_num(question1_test_vectors),np.nan_to_num(question2_test_vectors))]\n",
    "\n",
    "\n",
    "df_train['minkowski_distance'] = [minkowski(x, y, 3) for (x, y) in zip(np.nan_to_num(question1_vectors),np.nan_to_num(question2_vectors))]\n",
    "df_test['minkowski_distance'] = [minkowski(x, y, 3) for(x, y) in zip(np.nan_to_num(question1_test_vectors),np.nan_to_num(question2_test_vectors))]\n",
    "\n",
    "\n",
    "df_train['braycurtis_distance'] = [braycurtis(x, y) for (x, y) in zip(np.nan_to_num(question1_vectors),np.nan_to_num(question2_vectors))]\n",
    "df_test['braycurtis_distance'] = [braycurtis(x, y) for(x, y) in zip(np.nan_to_num(question1_test_vectors),np.nan_to_num(question2_test_vectors))]\n",
    "\n",
    "\n",
    "df_train['canberra_distance'] = [canberra(x, y) for (x, y) in zip(np.nan_to_num(question1_vectors),np.nan_to_num(question2_vectors))]\n",
    "df_test['canberra_distance'] = [canberra(x, y) for(x, y) in zip(np.nan_to_num(question1_test_vectors),np.nan_to_num(question2_test_vectors))]\n",
    "\n",
    "\n",
    "df_train['cityblock_distance'] = [cityblock(x, y) for (x, y) in zip(np.nan_to_num(question1_vectors),np.nan_to_num(question2_vectors))]\n",
    "df_test['cityblock_distance'] = [cityblock(x, y) for(x, y) in zip(np.nan_to_num(question1_test_vectors),np.nan_to_num(question2_test_vectors))]"
   ]
  },
  {
   "cell_type": "code",
   "execution_count": 99,
   "metadata": {
    "collapsed": false
   },
   "outputs": [
    {
     "data": {
      "text/plain": [
       "count    1000.000000\n",
       "mean        0.671730\n",
       "std         0.317851\n",
       "min         0.000000\n",
       "25%         0.494646\n",
       "50%         0.687001\n",
       "75%         0.876886\n",
       "max         1.362603\n",
       "Name: euclidean_distance, dtype: float64"
      ]
     },
     "execution_count": 99,
     "metadata": {},
     "output_type": "execute_result"
    }
   ],
   "source": [
    "df_train.euclidean_distance.describe()"
   ]
  },
  {
   "cell_type": "markdown",
   "metadata": {},
   "source": [
    "## Extract features important with ExtraTreesClassifier\n",
    "LDA is a supervised stastical technique to reduce dimensions"
   ]
  },
  {
   "cell_type": "code",
   "execution_count": 100,
   "metadata": {
    "collapsed": false
   },
   "outputs": [
    {
     "data": {
      "image/png": "[encoded data removed]",
      "text/plain": [
       "<matplotlib.figure.Figure at 0x20864dbd0>"
      ]
     },
     "metadata": {},
     "output_type": "display_data"
    }
   ],
   "source": [
    "# Build a forest and compute the feature importances\n",
    "forest = ExtraTreesClassifier(n_estimators=250,random_state=0)\n",
    "train = df_train.ix[:, 6:,]\n",
    "train = train.fillna(0)\n",
    "forest.fit(train, df_train.is_duplicate)\n",
    "importances = forest.feature_importances_\n",
    "std = np.std([tree.feature_importances_ for tree in forest.estimators_],axis=0)\n",
    "indices = np.argsort(importances)[::-1]\n",
    "list = train.columns.values\n",
    "# Print the feature ranking\n",
    "#print(\"Feature ranking:\")\n",
    "\n",
    "#for f in range(train.shape[1]):\n",
    "#    print(\"%d. feature %d (%f)\" % (f + 1, indices[f], importances[indices[f]]))\n",
    "\n",
    "# Plot the feature importances of the forest\n",
    "plt.figure(figsize=(20, 10))\n",
    "plt.title(\"Feature importances\")\n",
    "plt.bar(range(train.shape[1]), importances[indices],color='#ffdcad', yerr=std[indices], align=\"center\")\n",
    "plt.xticks(range(train.shape[1]), list[indices],rotation='vertical')\n",
    "plt.xlim([-1, 25])\n",
    "plt.ylim([0,.1])\n",
    "plt.xlabel(\"Feature importance\")\n",
    "plt.ylabel(\"Feature label\")\n",
    "plt.show()"
   ]
  },
  {
   "cell_type": "markdown",
   "metadata": {
    "collapsed": true
   },
   "source": [
    "## Logistic Regression "
   ]
  },
  {
   "cell_type": "code",
   "execution_count": 101,
   "metadata": {
    "collapsed": false
   },
   "outputs": [],
   "source": [
    "logreg = linear_model.LogisticRegression(C=1e5)\n",
    "X = df_train.ix[:, 6:,]\n",
    "X = X.fillna(0)\n",
    "Y = df_train.is_duplicate"
   ]
  },
  {
   "cell_type": "code",
   "execution_count": 102,
   "metadata": {
    "collapsed": false
   },
   "outputs": [
    {
     "name": "stdout",
     "output_type": "stream",
     "text": [
      "Train shape : (1000, 115), Test shape : (1000, 115)\n"
     ]
    }
   ],
   "source": [
    "print('Train shape : {}, Test shape : {}'.format(X.shape,df_test.ix[:, 3:,].shape))"
   ]
  },
  {
   "cell_type": "code",
   "execution_count": 103,
   "metadata": {
    "collapsed": false
   },
   "outputs": [
    {
     "data": {
      "text/plain": [
       "LogisticRegression(C=100000.0, class_weight=None, dual=False,\n",
       "          fit_intercept=True, intercept_scaling=1, max_iter=100,\n",
       "          multi_class='ovr', n_jobs=1, penalty='l2', random_state=None,\n",
       "          solver='liblinear', tol=0.0001, verbose=0, warm_start=False)"
      ]
     },
     "execution_count": 103,
     "metadata": {},
     "output_type": "execute_result"
    }
   ],
   "source": [
    "logreg.fit(X, Y)"
   ]
  },
  {
   "cell_type": "code",
   "execution_count": 104,
   "metadata": {
    "collapsed": false
   },
   "outputs": [],
   "source": [
    "df_test = df_test.fillna(0)\n",
    "proba_replicated = logreg.predict_proba(df_test.ix[:, 3:,])\n",
    "proba = proba_replicated[:,1]\n",
    "len(proba)\n",
    "sub = pd.DataFrame()\n",
    "sub['test_id'] = df_test['test_id']\n",
    "sub['is_duplicate'] = proba\n",
    "sub.to_csv('simple_lr.csv', index=False)"
   ]
  },
  {
   "cell_type": "markdown",
   "metadata": {},
   "source": [
    "### Log loss cross validation"
   ]
  },
  {
   "cell_type": "code",
   "execution_count": 118,
   "metadata": {
    "collapsed": false
   },
   "outputs": [
    {
     "data": {
      "text/plain": [
       "0.67599999999999993"
      ]
     },
     "execution_count": 118,
     "metadata": {},
     "output_type": "execute_result"
    }
   ],
   "source": [
    "scores = cross_val_score(logreg, X, Y, cv=5, scoring='accuracy')\n",
    "scores.mean()"
   ]
  },
  {
   "cell_type": "markdown",
   "metadata": {},
   "source": [
    "## XGBOOST Model"
   ]
  },
  {
   "cell_type": "code",
   "execution_count": 116,
   "metadata": {
    "collapsed": false
   },
   "outputs": [
    {
     "ename": "NameError",
     "evalue": "name 'y_test' is not defined",
     "output_type": "error",
     "traceback": [
      "\u001b[0;31m---------------------------------------------------------------------------\u001b[0m",
      "\u001b[0;31mNameError\u001b[0m                                 Traceback (most recent call last)",
      "\u001b[0;32m<ipython-input-116-ac6cebb5a411>\u001b[0m in \u001b[0;36m<module>\u001b[0;34m()\u001b[0m\n\u001b[1;32m     22\u001b[0m \u001b[0mpredictions\u001b[0m \u001b[0;34m=\u001b[0m \u001b[0;34m[\u001b[0m\u001b[0mround\u001b[0m\u001b[0;34m(\u001b[0m\u001b[0mvalue\u001b[0m\u001b[0;34m)\u001b[0m \u001b[0;32mfor\u001b[0m \u001b[0mvalue\u001b[0m \u001b[0;32min\u001b[0m \u001b[0mp_test\u001b[0m\u001b[0;34m]\u001b[0m\u001b[0;34m\u001b[0m\u001b[0m\n\u001b[1;32m     23\u001b[0m \u001b[0;31m# evaluate predictions\u001b[0m\u001b[0;34m\u001b[0m\u001b[0;34m\u001b[0m\u001b[0m\n\u001b[0;32m---> 24\u001b[0;31m \u001b[0maccuracy\u001b[0m \u001b[0;34m=\u001b[0m \u001b[0maccuracy_score\u001b[0m\u001b[0;34m(\u001b[0m\u001b[0my_test\u001b[0m\u001b[0;34m,\u001b[0m \u001b[0mpredictions\u001b[0m\u001b[0;34m)\u001b[0m\u001b[0;34m\u001b[0m\u001b[0m\n\u001b[0m\u001b[1;32m     25\u001b[0m \u001b[0;32mprint\u001b[0m\u001b[0;34m(\u001b[0m\u001b[0;34m\"Accuracy: %.2f%%\"\u001b[0m \u001b[0;34m%\u001b[0m \u001b[0;34m(\u001b[0m\u001b[0maccuracy\u001b[0m \u001b[0;34m*\u001b[0m \u001b[0;36m100.0\u001b[0m\u001b[0;34m)\u001b[0m\u001b[0;34m)\u001b[0m\u001b[0;34m\u001b[0m\u001b[0m\n",
      "\u001b[0;31mNameError\u001b[0m: name 'y_test' is not defined"
     ]
    }
   ],
   "source": [
    "# Set our parameters for xgboost\n",
    "from sklearn.metrics import accuracy_score\n",
    "\n",
    "params = {}\n",
    "params['objective'] = 'binary:logistic'\n",
    "params['eval_metric'] = 'logloss'\n",
    "params['eta'] = 0.02\n",
    "params['max_depth'] = 4\n",
    "\n",
    "x_train = df_train.ix[:, 6:,]\n",
    "y_train = df_train.is_duplicate\n",
    "\n",
    "d_train = xgb.DMatrix(x_train, label=y_train)\n",
    "\n",
    "\n",
    "bst = xgb.train(params, d_train, 400)\n",
    "\n",
    "test = df_test.ix[:, 3:,]\n",
    "d_test = xgb.DMatrix(test)\n",
    "p_test = bst.predict(d_test)\n",
    "\n",
    "predictions = [round(value) for value in p_test]\n",
    "# evaluate predictions\n",
    "accuracy = accuracy_score(y_test, predictions)\n",
    "print(\"Accuracy: %.2f%%\" % (accuracy * 100.0))"
   ]
  },
  {
   "cell_type": "markdown",
   "metadata": {},
   "source": [
    "### Create submission file"
   ]
  },
  {
   "cell_type": "code",
   "execution_count": 325,
   "metadata": {
    "collapsed": false
   },
   "outputs": [
    {
     "data": {
      "text/plain": [
       "[('And', 'CC'),\n",
       " ('now', 'RB'),\n",
       " ('for', 'IN'),\n",
       " ('something', 'NN'),\n",
       " ('completely', 'RB'),\n",
       " ('different', 'JJ')]"
      ]
     },
     "execution_count": 325,
     "metadata": {},
     "output_type": "execute_result"
    }
   ],
   "source": [
    "text = nltk.word_tokenize(\"And now for something completely different\")\n",
    "nltk.pos_tag(text)"
   ]
  }
 ],
 "metadata": {
  "kernelspec": {
   "display_name": "Python 2",
   "language": "python",
   "name": "python2"
  },
  "language_info": {
   "codemirror_mode": {
    "name": "ipython",
    "version": 2
   },
   "file_extension": ".py",
   "mimetype": "text/x-python",
   "name": "python",
   "nbconvert_exporter": "python",
   "pygments_lexer": "ipython2",
   "version": "2.7.13"
  }
 },
 "nbformat": 4,
 "nbformat_minor": 0
}
