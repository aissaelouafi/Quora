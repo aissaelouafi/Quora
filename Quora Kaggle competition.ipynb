{
 "cells": [
  {
   "cell_type": "markdown",
   "metadata": {},
   "source": [
    "## Quora Kaggle competition\n",
    "\n",
    "Welcome to the Quora Question Pairs competition! Here, our goal is to identify which questions asked on Quora, a quasi-forum website with over 100 million visitors a month, are duplicates of questions that have already been asked. This could be useful, for example, to instantly provide answers to questions that have already been answered. We are tasked with predicting whether a pair of questions are duplicates or not, and submitting a binary prediction against the logloss metric."
   ]
  },
  {
   "cell_type": "code",
   "execution_count": 140,
   "metadata": {
    "collapsed": false
   },
   "outputs": [],
   "source": [
    "import numpy as np\n",
    "import pandas as pd\n",
    "import os,re\n",
    "import seaborn as sns\n",
    "import gensim as gn\n",
    "import logging\n",
    "from nltk.stem.porter import PorterStemmer\n",
    "from gensim import corpora, models\n",
    "from gensim.models.word2vec import Word2Vec\n",
    "import nltk\n",
    "from fuzzywuzzy import fuzz\n",
    "from sklearn import linear_model\n",
    "import keras.layers as lyr\n",
    "from keras.models import Model\n",
    "from sklearn.manifold import TSNE\n",
    "import matplotlib.pyplot as plt\n",
    "%matplotlib inline\n",
    "logging.basicConfig(format='%(asctime)s : %(levelname)s : %(message)s', level=logging.INFO)"
   ]
  },
  {
   "cell_type": "markdown",
   "metadata": {},
   "source": [
    "### Training data"
   ]
  },
  {
   "cell_type": "code",
   "execution_count": 97,
   "metadata": {
    "collapsed": false
   },
   "outputs": [
    {
     "data": {
      "text/html": [
       "<div>\n",
       "<table border=\"1\" class=\"dataframe\">\n",
       "  <thead>\n",
       "    <tr style=\"text-align: right;\">\n",
       "      <th></th>\n",
       "      <th>id</th>\n",
       "      <th>qid1</th>\n",
       "      <th>qid2</th>\n",
       "      <th>question1</th>\n",
       "      <th>question2</th>\n",
       "      <th>is_duplicate</th>\n",
       "    </tr>\n",
       "  </thead>\n",
       "  <tbody>\n",
       "    <tr>\n",
       "      <th>273872</th>\n",
       "      <td>273872</td>\n",
       "      <td>392405</td>\n",
       "      <td>392406</td>\n",
       "      <td>What are the pros &amp; cons of democracy?</td>\n",
       "      <td>What are the pros and cons of a democracy?</td>\n",
       "      <td>1</td>\n",
       "    </tr>\n",
       "    <tr>\n",
       "      <th>342308</th>\n",
       "      <td>342308</td>\n",
       "      <td>438846</td>\n",
       "      <td>462606</td>\n",
       "      <td>How will Brexit impact the flow of goods and p...</td>\n",
       "      <td>Can a post-Brexit Britain really survive witho...</td>\n",
       "      <td>1</td>\n",
       "    </tr>\n",
       "    <tr>\n",
       "      <th>353135</th>\n",
       "      <td>353135</td>\n",
       "      <td>482139</td>\n",
       "      <td>482140</td>\n",
       "      <td>If I got a Buddhist tattoo would I be disrespe...</td>\n",
       "      <td>Do many Buddhists actually \"throw away the raft\"?</td>\n",
       "      <td>0</td>\n",
       "    </tr>\n",
       "  </tbody>\n",
       "</table>\n",
       "</div>"
      ],
      "text/plain": [
       "            id    qid1    qid2  \\\n",
       "273872  273872  392405  392406   \n",
       "342308  342308  438846  462606   \n",
       "353135  353135  482139  482140   \n",
       "\n",
       "                                                question1  \\\n",
       "273872             What are the pros & cons of democracy?   \n",
       "342308  How will Brexit impact the flow of goods and p...   \n",
       "353135  If I got a Buddhist tattoo would I be disrespe...   \n",
       "\n",
       "                                                question2  is_duplicate  \n",
       "273872         What are the pros and cons of a democracy?             1  \n",
       "342308  Can a post-Brexit Britain really survive witho...             1  \n",
       "353135  Do many Buddhists actually \"throw away the raft\"?             0  "
      ]
     },
     "execution_count": 97,
     "metadata": {},
     "output_type": "execute_result"
    }
   ],
   "source": [
    "df_train = pd.read_csv('./data/train.csv').sample(10000,random_state=44)\n",
    "df_test = pd.read_csv('./data/test.csv').sample(10000,random_state=44)\n",
    "df_train.head(3)"
   ]
  },
  {
   "cell_type": "code",
   "execution_count": 98,
   "metadata": {
    "collapsed": false
   },
   "outputs": [
    {
     "name": "stdout",
     "output_type": "stream",
     "text": [
      "Total number of question pairs for training: 10000\n",
      "Total number of question pairs for test data: 10000\n",
      "Duplicate pairs : 37.46 %\n"
     ]
    }
   ],
   "source": [
    "print('Total number of question pairs for training: {}'.format(len(df_train)))\n",
    "print('Total number of question pairs for test data: {}'.format(len(df_test)))\n",
    "print('Duplicate pairs : {} %'.format(round(df_train['is_duplicate'].mean()*100,2)))"
   ]
  },
  {
   "cell_type": "markdown",
   "metadata": {},
   "source": [
    "## Generate features"
   ]
  },
  {
   "cell_type": "markdown",
   "metadata": {},
   "source": [
    "### Text handcrafted features (fs_1)"
   ]
  },
  {
   "cell_type": "code",
   "execution_count": 99,
   "metadata": {
    "collapsed": false
   },
   "outputs": [],
   "source": [
    "def generate_features(df_train):\n",
    "    df_train['len_q1'] = df_train['question1'].apply(lambda x:len(str(x)))\n",
    "    df_train['len_q2'] = df_train['question2'].apply(lambda x:len(str(x)))\n",
    "    df_train['diff_len'] = df_train.len_q1-df_train.len_q2\n",
    "    df_train['len_char_q1'] = df_train.question1.apply(lambda x:len(''.join(set(str(x).replace(' ','')))))\n",
    "    df_train['len_char_q2'] = df_train.question2.apply(lambda x:len(''.join(set(str(x).replace(' ','')))))\n",
    "    df_train['len_word_q1'] = df_train.question1.apply(lambda x:len(str(x).split()))\n",
    "    df_train['len_word_q2'] = df_train.question2.apply(lambda x:len(str(x).split()))\n",
    "    df_train['common_words'] = df_train.apply(lambda x:len(set(str(x['question1']).lower().split()).intersection(set(str(x['question2']).lower().split()))),axis=1)\n",
    "\n",
    "    df_train['fuzzy_qratio'] = df_train.apply(lambda x: fuzz.QRatio(str(x['question1']),str(x['question2'])),axis=1)\n",
    "    df_train['fuzzy_wratio'] = df_train.apply(lambda x:fuzz.WRatio(str(x['question1']),str(x['question2'])),axis=1)\n",
    "    df_train['fuzzy_partial_ratio'] = df_train.apply(lambda x:fuzz.partial_ratio(str(x['question1']),str(x['question2'])),axis=1)\n",
    "    return df_train"
   ]
  },
  {
   "cell_type": "code",
   "execution_count": 100,
   "metadata": {
    "collapsed": false
   },
   "outputs": [
    {
     "data": {
      "text/html": [
       "<div>\n",
       "<table border=\"1\" class=\"dataframe\">\n",
       "  <thead>\n",
       "    <tr style=\"text-align: right;\">\n",
       "      <th></th>\n",
       "      <th>id</th>\n",
       "      <th>qid1</th>\n",
       "      <th>qid2</th>\n",
       "      <th>question1</th>\n",
       "      <th>question2</th>\n",
       "      <th>is_duplicate</th>\n",
       "      <th>len_q1</th>\n",
       "      <th>len_q2</th>\n",
       "      <th>diff_len</th>\n",
       "      <th>len_char_q1</th>\n",
       "      <th>len_char_q2</th>\n",
       "      <th>len_word_q1</th>\n",
       "      <th>len_word_q2</th>\n",
       "      <th>common_words</th>\n",
       "      <th>fuzzy_qratio</th>\n",
       "      <th>fuzzy_wratio</th>\n",
       "      <th>fuzzy_partial_ratio</th>\n",
       "    </tr>\n",
       "  </thead>\n",
       "  <tbody>\n",
       "    <tr>\n",
       "      <th>273872</th>\n",
       "      <td>273872</td>\n",
       "      <td>392405</td>\n",
       "      <td>392406</td>\n",
       "      <td>What are the pros &amp; cons of democracy?</td>\n",
       "      <td>What are the pros and cons of a democracy?</td>\n",
       "      <td>1</td>\n",
       "      <td>38</td>\n",
       "      <td>42</td>\n",
       "      <td>-4</td>\n",
       "      <td>17</td>\n",
       "      <td>16</td>\n",
       "      <td>8</td>\n",
       "      <td>9</td>\n",
       "      <td>7</td>\n",
       "      <td>92</td>\n",
       "      <td>95</td>\n",
       "      <td>87</td>\n",
       "    </tr>\n",
       "    <tr>\n",
       "      <th>342308</th>\n",
       "      <td>342308</td>\n",
       "      <td>438846</td>\n",
       "      <td>462606</td>\n",
       "      <td>How will Brexit impact the flow of goods and p...</td>\n",
       "      <td>Can a post-Brexit Britain really survive witho...</td>\n",
       "      <td>1</td>\n",
       "      <td>105</td>\n",
       "      <td>145</td>\n",
       "      <td>-40</td>\n",
       "      <td>26</td>\n",
       "      <td>30</td>\n",
       "      <td>18</td>\n",
       "      <td>22</td>\n",
       "      <td>7</td>\n",
       "      <td>62</td>\n",
       "      <td>71</td>\n",
       "      <td>71</td>\n",
       "    </tr>\n",
       "    <tr>\n",
       "      <th>353135</th>\n",
       "      <td>353135</td>\n",
       "      <td>482139</td>\n",
       "      <td>482140</td>\n",
       "      <td>If I got a Buddhist tattoo would I be disrespe...</td>\n",
       "      <td>Do many Buddhists actually \"throw away the raft\"?</td>\n",
       "      <td>0</td>\n",
       "      <td>85</td>\n",
       "      <td>49</td>\n",
       "      <td>36</td>\n",
       "      <td>22</td>\n",
       "      <td>21</td>\n",
       "      <td>15</td>\n",
       "      <td>8</td>\n",
       "      <td>1</td>\n",
       "      <td>44</td>\n",
       "      <td>86</td>\n",
       "      <td>49</td>\n",
       "    </tr>\n",
       "  </tbody>\n",
       "</table>\n",
       "</div>"
      ],
      "text/plain": [
       "            id    qid1    qid2  \\\n",
       "273872  273872  392405  392406   \n",
       "342308  342308  438846  462606   \n",
       "353135  353135  482139  482140   \n",
       "\n",
       "                                                question1  \\\n",
       "273872             What are the pros & cons of democracy?   \n",
       "342308  How will Brexit impact the flow of goods and p...   \n",
       "353135  If I got a Buddhist tattoo would I be disrespe...   \n",
       "\n",
       "                                                question2  is_duplicate  \\\n",
       "273872         What are the pros and cons of a democracy?             1   \n",
       "342308  Can a post-Brexit Britain really survive witho...             1   \n",
       "353135  Do many Buddhists actually \"throw away the raft\"?             0   \n",
       "\n",
       "        len_q1  len_q2  diff_len  len_char_q1  len_char_q2  len_word_q1  \\\n",
       "273872      38      42        -4           17           16            8   \n",
       "342308     105     145       -40           26           30           18   \n",
       "353135      85      49        36           22           21           15   \n",
       "\n",
       "        len_word_q2  common_words  fuzzy_qratio  fuzzy_wratio  \\\n",
       "273872            9             7            92            95   \n",
       "342308           22             7            62            71   \n",
       "353135            8             1            44            86   \n",
       "\n",
       "        fuzzy_partial_ratio  \n",
       "273872                   87  \n",
       "342308                   71  \n",
       "353135                   49  "
      ]
     },
     "execution_count": 100,
     "metadata": {},
     "output_type": "execute_result"
    }
   ],
   "source": [
    "df_train = generate_features(df_train)\n",
    "df_train.head(3)"
   ]
  },
  {
   "cell_type": "markdown",
   "metadata": {},
   "source": [
    "### LDA (Lattent Dirichlet Allocation) features "
   ]
  },
  {
   "cell_type": "code",
   "execution_count": 163,
   "metadata": {
    "collapsed": false
   },
   "outputs": [],
   "source": [
    "# Steaming \n",
    "p_stemmer = PorterStemmer()\n",
    "STOP_WORDS = nltk.corpus.stopwords.words()\n",
    "\n",
    "def clean_sentence(val):\n",
    "    \"remove chars that are not letters or numbers, downcase, then remove stop words\"\n",
    "    regex = re.compile('([^\\s\\w]|_)+')\n",
    "    sentence = regex.sub('', val).lower()\n",
    "    sentence = sentence.split(\" \")\n",
    "    \n",
    "    for word in list(sentence):\n",
    "        if word in STOP_WORDS:\n",
    "            sentence.remove(word)  \n",
    "            \n",
    "    sentence = \" \".join(sentence)\n",
    "    return sentence\n",
    "\n",
    "def clean_dataframe(data):\n",
    "    \"drop nans, then apply 'clean_sentence' function to question1 and 2\"\n",
    "    data = data.dropna(how=\"any\")\n",
    "    \n",
    "    for col in ['question1', 'question2']:\n",
    "        data[col] = data[col].apply(clean_sentence)\n",
    "    \n",
    "    return data\n",
    "\n",
    "# Function to vuild a corpus\n",
    "def build_corpus(data):\n",
    "    \"Creates a list of lists containing words from each sentence\"\n",
    "    corpus = []\n",
    "    for col in ['question1', 'question2']:\n",
    "        for sentence in data[col].iteritems():\n",
    "            word_list = sentence[1].split(\" \")\n",
    "            corpus.append(word_list)\n",
    "    return corpus"
   ]
  },
  {
   "cell_type": "code",
   "execution_count": 200,
   "metadata": {
    "collapsed": false
   },
   "outputs": [],
   "source": [
    "data = clean_dataframe(df_train)\n",
    "corpus = build_corpus(data)\n",
    "dictionary = corpora.Dictionary(corpus)\n",
    "corpus = [dictionary.doc2bow(text) for text in corpus]\n",
    "ldamodel = models.ldamodel.LdaModel(corpus, num_topics=30, id2word = dictionary)"
   ]
  },
  {
   "cell_type": "code",
   "execution_count": 230,
   "metadata": {
    "collapsed": false
   },
   "outputs": [
    {
     "name": "stdout",
     "output_type": "stream",
     "text": [
      "[(0, 0.011111111111111115), (1, 0.011111111111111115), (2, 0.011111111111111115), (3, 0.011111111111111115), (4, 0.011111111111111115), (5, 0.011111111111111115), (6, 0.011111111111111115), (7, 0.011111111111111115), (8, 0.011111111111111115), (9, 0.011111111111111115), (10, 0.011111111111111115), (11, 0.011111111111111115), (12, 0.011111111111111115), (14, 0.011111111111111115), (15, 0.011111111111111115), (16, 0.011111111111111115), (17, 0.011111111111111115), (18, 0.011111111111111115), (19, 0.011111111111111115), (20, 0.011111111111111115), (21, 0.011111111111111115), (22, 0.011111111111111115), (23, 0.011111111111111115), (24, 0.011111111111111115), (26, 0.011111111111111115), (27, 0.011111111111111115), (28, 0.011111111111111115), (29, 0.011111111111111115), (13, 0.011111111111111387), (25, 0.67777777777777759)]\n",
      "------\n",
      "[(0, 0.011111111111111113), (1, 0.011111111111111113), (2, 0.011111111111111113), (3, 0.011111111111111113), (4, 0.011111111111111113), (5, 0.011111111111111113), (6, 0.011111111111111113), (7, 0.011111111111111113), (8, 0.011111111111111113), (9, 0.011111111111111113), (10, 0.011111111111111113), (11, 0.011111111111111113), (12, 0.011111111111111113), (14, 0.011111111111111113), (15, 0.011111111111111113), (16, 0.011111111111111113), (17, 0.011111111111111113), (18, 0.011111111111111113), (19, 0.011111111111111113), (20, 0.011111111111111113), (21, 0.011111111111111113), (22, 0.011111111111111113), (23, 0.011111111111111113), (24, 0.011111111111111113), (26, 0.011111111111111113), (27, 0.011111111111111113), (28, 0.011111111111111113), (29, 0.011111111111111113), (13, 0.011111111111111386), (25, 0.6777777777777777)]\n"
     ]
    },
    {
     "data": {
      "text/plain": [
       "u'0.022*\"give\" + 0.020*\"police\" + 0.019*\"safe\" + 0.019*\"future\" + 0.018*\"would\" + 0.018*\"universities\" + 0.017*\"hotel\" + 0.017*\"without\" + 0.017*\"places\" + 0.017*\"companies\"'"
      ]
     },
     "execution_count": 230,
     "metadata": {},
     "output_type": "execute_result"
    }
   ],
   "source": [
    "query = 'What are the pros & cons of democracy?'\n",
    "query2 = 'What are the pros and cons of a democracy?'\n",
    "query = query.split()\n",
    "query2 = query2.split()\n",
    "\n",
    "query = dictionary.doc2bow(query)\n",
    "query2 = dictionary.doc2bow(query2)\n",
    "\n",
    "ldamodel[query]\n",
    "ldamodel[query2]\n",
    "\n",
    "a = list(sorted(ldamodel[query], key=lambda x: x[1]))\n",
    "b = list(sorted(ldamodel[query2], key=lambda x: x[1]))\n",
    "\n",
    "print(a)\n",
    "print(\"------\")\n",
    "print(b)\n",
    "ldamodel.print_topic(a[0][0])\n",
    "ldamodel.print_topic(b[0][0])"
   ]
  },
  {
   "cell_type": "markdown",
   "metadata": {},
   "source": [
    "### Word2vec features\n",
    "Generate word2vec based on pre-trained model on Google News corpus (3 billion running words) word vector model (3 million 300-dimension English word vectors)."
   ]
  },
  {
   "cell_type": "markdown",
   "metadata": {
    "collapsed": true
   },
   "source": [
    "## Logistic Regression "
   ]
  },
  {
   "cell_type": "code",
   "execution_count": 81,
   "metadata": {
    "collapsed": false
   },
   "outputs": [],
   "source": [
    "logreg = linear_model.LogisticRegression(C=1e5)\n",
    "X = df_train.ix[:, 6:,]\n",
    "Y = df_train.is_duplicate"
   ]
  },
  {
   "cell_type": "code",
   "execution_count": 82,
   "metadata": {
    "collapsed": false
   },
   "outputs": [
    {
     "data": {
      "text/html": [
       "<div>\n",
       "<table border=\"1\" class=\"dataframe\">\n",
       "  <thead>\n",
       "    <tr style=\"text-align: right;\">\n",
       "      <th></th>\n",
       "      <th>len_q1</th>\n",
       "      <th>len_q2</th>\n",
       "      <th>diff_len</th>\n",
       "      <th>len_char_q1</th>\n",
       "      <th>len_char_q2</th>\n",
       "      <th>len_word_q1</th>\n",
       "      <th>len_word_q2</th>\n",
       "      <th>common_words</th>\n",
       "      <th>fuzzy_qratio</th>\n",
       "      <th>fuzzy_wratio</th>\n",
       "      <th>fuzzy_partial_ratio</th>\n",
       "    </tr>\n",
       "  </thead>\n",
       "  <tbody>\n",
       "    <tr>\n",
       "      <th>273872</th>\n",
       "      <td>38</td>\n",
       "      <td>42</td>\n",
       "      <td>-4</td>\n",
       "      <td>17</td>\n",
       "      <td>16</td>\n",
       "      <td>8</td>\n",
       "      <td>9</td>\n",
       "      <td>7</td>\n",
       "      <td>92</td>\n",
       "      <td>95</td>\n",
       "      <td>87</td>\n",
       "    </tr>\n",
       "    <tr>\n",
       "      <th>342308</th>\n",
       "      <td>105</td>\n",
       "      <td>145</td>\n",
       "      <td>-40</td>\n",
       "      <td>26</td>\n",
       "      <td>30</td>\n",
       "      <td>18</td>\n",
       "      <td>22</td>\n",
       "      <td>7</td>\n",
       "      <td>62</td>\n",
       "      <td>71</td>\n",
       "      <td>71</td>\n",
       "    </tr>\n",
       "    <tr>\n",
       "      <th>353135</th>\n",
       "      <td>85</td>\n",
       "      <td>49</td>\n",
       "      <td>36</td>\n",
       "      <td>22</td>\n",
       "      <td>21</td>\n",
       "      <td>15</td>\n",
       "      <td>8</td>\n",
       "      <td>1</td>\n",
       "      <td>44</td>\n",
       "      <td>86</td>\n",
       "      <td>49</td>\n",
       "    </tr>\n",
       "    <tr>\n",
       "      <th>332098</th>\n",
       "      <td>39</td>\n",
       "      <td>54</td>\n",
       "      <td>-15</td>\n",
       "      <td>18</td>\n",
       "      <td>18</td>\n",
       "      <td>7</td>\n",
       "      <td>10</td>\n",
       "      <td>3</td>\n",
       "      <td>70</td>\n",
       "      <td>70</td>\n",
       "      <td>77</td>\n",
       "    </tr>\n",
       "    <tr>\n",
       "      <th>176156</th>\n",
       "      <td>36</td>\n",
       "      <td>37</td>\n",
       "      <td>-1</td>\n",
       "      <td>15</td>\n",
       "      <td>17</td>\n",
       "      <td>7</td>\n",
       "      <td>8</td>\n",
       "      <td>4</td>\n",
       "      <td>65</td>\n",
       "      <td>83</td>\n",
       "      <td>67</td>\n",
       "    </tr>\n",
       "  </tbody>\n",
       "</table>\n",
       "</div>"
      ],
      "text/plain": [
       "        len_q1  len_q2  diff_len  len_char_q1  len_char_q2  len_word_q1  \\\n",
       "273872      38      42        -4           17           16            8   \n",
       "342308     105     145       -40           26           30           18   \n",
       "353135      85      49        36           22           21           15   \n",
       "332098      39      54       -15           18           18            7   \n",
       "176156      36      37        -1           15           17            7   \n",
       "\n",
       "        len_word_q2  common_words  fuzzy_qratio  fuzzy_wratio  \\\n",
       "273872            9             7            92            95   \n",
       "342308           22             7            62            71   \n",
       "353135            8             1            44            86   \n",
       "332098           10             3            70            70   \n",
       "176156            8             4            65            83   \n",
       "\n",
       "        fuzzy_partial_ratio  \n",
       "273872                   87  \n",
       "342308                   71  \n",
       "353135                   49  \n",
       "332098                   77  \n",
       "176156                   67  "
      ]
     },
     "execution_count": 82,
     "metadata": {},
     "output_type": "execute_result"
    }
   ],
   "source": [
    "X.head()"
   ]
  },
  {
   "cell_type": "code",
   "execution_count": 83,
   "metadata": {
    "collapsed": false
   },
   "outputs": [
    {
     "data": {
      "text/plain": [
       "LogisticRegression(C=100000.0, class_weight=None, dual=False,\n",
       "          fit_intercept=True, intercept_scaling=1, max_iter=100,\n",
       "          multi_class='ovr', n_jobs=1, penalty='l2', random_state=None,\n",
       "          solver='liblinear', tol=0.0001, verbose=0, warm_start=False)"
      ]
     },
     "execution_count": 83,
     "metadata": {},
     "output_type": "execute_result"
    }
   ],
   "source": [
    "logreg.fit(X, Y)"
   ]
  },
  {
   "cell_type": "code",
   "execution_count": 84,
   "metadata": {
    "collapsed": true
   },
   "outputs": [],
   "source": [
    "test_data = generate_features(df_test)"
   ]
  },
  {
   "cell_type": "code",
   "execution_count": 85,
   "metadata": {
    "collapsed": false
   },
   "outputs": [],
   "source": [
    "test_data = df_train.ix[:, 6:,]"
   ]
  },
  {
   "cell_type": "code",
   "execution_count": 86,
   "metadata": {
    "collapsed": false
   },
   "outputs": [],
   "source": [
    "proba_replicated = logreg.predict_proba(test_data)\n",
    "proba = proba_replicated[:,1]"
   ]
  },
  {
   "cell_type": "markdown",
   "metadata": {},
   "source": [
    "### Train Word2vec model"
   ]
  },
  {
   "cell_type": "code",
   "execution_count": 87,
   "metadata": {
    "collapsed": false
   },
   "outputs": [
    {
     "data": {
      "text/html": [
       "<div>\n",
       "<table border=\"1\" class=\"dataframe\">\n",
       "  <thead>\n",
       "    <tr style=\"text-align: right;\">\n",
       "      <th></th>\n",
       "      <th>id</th>\n",
       "      <th>qid1</th>\n",
       "      <th>qid2</th>\n",
       "      <th>question1</th>\n",
       "      <th>question2</th>\n",
       "      <th>is_duplicate</th>\n",
       "      <th>len_q1</th>\n",
       "      <th>len_q2</th>\n",
       "      <th>diff_len</th>\n",
       "      <th>len_char_q1</th>\n",
       "      <th>len_char_q2</th>\n",
       "      <th>len_word_q1</th>\n",
       "      <th>len_word_q2</th>\n",
       "      <th>common_words</th>\n",
       "      <th>fuzzy_qratio</th>\n",
       "      <th>fuzzy_wratio</th>\n",
       "      <th>fuzzy_partial_ratio</th>\n",
       "    </tr>\n",
       "  </thead>\n",
       "  <tbody>\n",
       "    <tr>\n",
       "      <th>273872</th>\n",
       "      <td>273872</td>\n",
       "      <td>392405</td>\n",
       "      <td>392406</td>\n",
       "      <td>pros  cons democracy</td>\n",
       "      <td>pros cons democracy</td>\n",
       "      <td>1</td>\n",
       "      <td>38</td>\n",
       "      <td>42</td>\n",
       "      <td>-4</td>\n",
       "      <td>17</td>\n",
       "      <td>16</td>\n",
       "      <td>8</td>\n",
       "      <td>9</td>\n",
       "      <td>7</td>\n",
       "      <td>92</td>\n",
       "      <td>95</td>\n",
       "      <td>87</td>\n",
       "    </tr>\n",
       "    <tr>\n",
       "      <th>342308</th>\n",
       "      <td>342308</td>\n",
       "      <td>438846</td>\n",
       "      <td>462606</td>\n",
       "      <td>brexit impact flow goods people northern irela...</td>\n",
       "      <td>postbrexit britain really survive without land...</td>\n",
       "      <td>1</td>\n",
       "      <td>105</td>\n",
       "      <td>145</td>\n",
       "      <td>-40</td>\n",
       "      <td>26</td>\n",
       "      <td>30</td>\n",
       "      <td>18</td>\n",
       "      <td>22</td>\n",
       "      <td>7</td>\n",
       "      <td>62</td>\n",
       "      <td>71</td>\n",
       "      <td>71</td>\n",
       "    </tr>\n",
       "    <tr>\n",
       "      <th>353135</th>\n",
       "      <td>353135</td>\n",
       "      <td>482139</td>\n",
       "      <td>482140</td>\n",
       "      <td>got buddhist tattoo would disrespecting people...</td>\n",
       "      <td>many buddhists actually throw away raft</td>\n",
       "      <td>0</td>\n",
       "      <td>85</td>\n",
       "      <td>49</td>\n",
       "      <td>36</td>\n",
       "      <td>22</td>\n",
       "      <td>21</td>\n",
       "      <td>15</td>\n",
       "      <td>8</td>\n",
       "      <td>1</td>\n",
       "      <td>44</td>\n",
       "      <td>86</td>\n",
       "      <td>49</td>\n",
       "    </tr>\n",
       "    <tr>\n",
       "      <th>332098</th>\n",
       "      <td>332098</td>\n",
       "      <td>338155</td>\n",
       "      <td>31995</td>\n",
       "      <td>create instagram account</td>\n",
       "      <td>track created instagram account</td>\n",
       "      <td>0</td>\n",
       "      <td>39</td>\n",
       "      <td>54</td>\n",
       "      <td>-15</td>\n",
       "      <td>18</td>\n",
       "      <td>18</td>\n",
       "      <td>7</td>\n",
       "      <td>10</td>\n",
       "      <td>3</td>\n",
       "      <td>70</td>\n",
       "      <td>70</td>\n",
       "      <td>77</td>\n",
       "    </tr>\n",
       "    <tr>\n",
       "      <th>176156</th>\n",
       "      <td>176156</td>\n",
       "      <td>271084</td>\n",
       "      <td>271085</td>\n",
       "      <td>hulu plus free trial really free</td>\n",
       "      <td>long hulu plus free trial</td>\n",
       "      <td>0</td>\n",
       "      <td>36</td>\n",
       "      <td>37</td>\n",
       "      <td>-1</td>\n",
       "      <td>15</td>\n",
       "      <td>17</td>\n",
       "      <td>7</td>\n",
       "      <td>8</td>\n",
       "      <td>4</td>\n",
       "      <td>65</td>\n",
       "      <td>83</td>\n",
       "      <td>67</td>\n",
       "    </tr>\n",
       "  </tbody>\n",
       "</table>\n",
       "</div>"
      ],
      "text/plain": [
       "            id    qid1    qid2  \\\n",
       "273872  273872  392405  392406   \n",
       "342308  342308  438846  462606   \n",
       "353135  353135  482139  482140   \n",
       "332098  332098  338155   31995   \n",
       "176156  176156  271084  271085   \n",
       "\n",
       "                                                question1  \\\n",
       "273872                               pros  cons democracy   \n",
       "342308  brexit impact flow goods people northern irela...   \n",
       "353135  got buddhist tattoo would disrespecting people...   \n",
       "332098                           create instagram account   \n",
       "176156                   hulu plus free trial really free   \n",
       "\n",
       "                                                question2  is_duplicate  \\\n",
       "273872                                pros cons democracy             1   \n",
       "342308  postbrexit britain really survive without land...             1   \n",
       "353135            many buddhists actually throw away raft             0   \n",
       "332098                    track created instagram account             0   \n",
       "176156                          long hulu plus free trial             0   \n",
       "\n",
       "        len_q1  len_q2  diff_len  len_char_q1  len_char_q2  len_word_q1  \\\n",
       "273872      38      42        -4           17           16            8   \n",
       "342308     105     145       -40           26           30           18   \n",
       "353135      85      49        36           22           21           15   \n",
       "332098      39      54       -15           18           18            7   \n",
       "176156      36      37        -1           15           17            7   \n",
       "\n",
       "        len_word_q2  common_words  fuzzy_qratio  fuzzy_wratio  \\\n",
       "273872            9             7            92            95   \n",
       "342308           22             7            62            71   \n",
       "353135            8             1            44            86   \n",
       "332098           10             3            70            70   \n",
       "176156            8             4            65            83   \n",
       "\n",
       "        fuzzy_partial_ratio  \n",
       "273872                   87  \n",
       "342308                   71  \n",
       "353135                   49  \n",
       "332098                   77  \n",
       "176156                   67  "
      ]
     },
     "execution_count": 87,
     "metadata": {},
     "output_type": "execute_result"
    }
   ],
   "source": [
    "STOP_WORDS = nltk.corpus.stopwords.words()\n",
    "def clean_sentence(val):\n",
    "    \"remove chars that are not letters or numbers, downcase, then remove stop words\"\n",
    "    regex = re.compile('([^\\s\\w]|_)+')\n",
    "    sentence = regex.sub('', val).lower()\n",
    "    sentence = sentence.split(\" \")\n",
    "    \n",
    "    for word in list(sentence):\n",
    "        if word in STOP_WORDS:\n",
    "            sentence.remove(word)  \n",
    "            \n",
    "    sentence = \" \".join(sentence)\n",
    "    return sentence\n",
    "\n",
    "def clean_dataframe(data):\n",
    "    \"drop nans, then apply 'clean_sentence' function to question1 and 2\"\n",
    "    data = data.dropna(how=\"any\")\n",
    "    \n",
    "    for col in ['question1', 'question2']:\n",
    "        data[col] = data[col].apply(clean_sentence)\n",
    "    \n",
    "    return data\n",
    "\n",
    "data = clean_dataframe(df_train)\n",
    "data.head(5)"
   ]
  },
  {
   "cell_type": "markdown",
   "metadata": {},
   "source": [
    "### Create submission file"
   ]
  },
  {
   "cell_type": "code",
   "execution_count": 178,
   "metadata": {
    "collapsed": false
   },
   "outputs": [
    {
     "data": {
      "text/plain": [
       "[(167, 0.065000173695682381),\n",
       " (28, 0.024394592258805053),\n",
       " (491, 0.022818339790596102),\n",
       " (24, 0.019202389820331015),\n",
       " (840, 0.018024426932477477),\n",
       " (374, 0.017328766317090839),\n",
       " (571, 0.016904140648978425),\n",
       " (1979, 0.016817806059348524),\n",
       " (450, 0.015587710754376977),\n",
       " (1386, 0.015584683613291378)]"
      ]
     },
     "execution_count": 178,
     "metadata": {},
     "output_type": "execute_result"
    }
   ],
   "source": [
    "corpus = build_corpus(df_train)\n",
    "ldamodel.get_topic_terms(23)"
   ]
  },
  {
   "cell_type": "code",
   "execution_count": null,
   "metadata": {
    "collapsed": true
   },
   "outputs": [],
   "source": []
  }
 ],
 "metadata": {
  "kernelspec": {
   "display_name": "Python 2",
   "language": "python",
   "name": "python2"
  },
  "language_info": {
   "codemirror_mode": {
    "name": "ipython",
    "version": 2
   },
   "file_extension": ".py",
   "mimetype": "text/x-python",
   "name": "python",
   "nbconvert_exporter": "python",
   "pygments_lexer": "ipython2",
   "version": "2.7.11"
  }
 },
 "nbformat": 4,
 "nbformat_minor": 0
}
